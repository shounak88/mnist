{
 "cells": [
  {
   "cell_type": "code",
   "execution_count": 2,
   "metadata": {},
   "outputs": [],
   "source": [
    "%matplotlib inline\n",
    "import numpy as np\n",
    "import matplotlib.pyplot as plt\n",
    "import os\n",
    "import sys\n",
    "module_path = os.path.abspath(os.path.join('..'))\n",
    "if module_path not in sys.path:\n",
    "    sys.path.append(module_path)\n",
    "np.random.seed(42)\n",
    "#from utils import datagen, plotting\n",
    "#import coresets\n",
    "#import algorithms\n",
    "import csv\n",
    "import math\n",
    "from sklearn.cluster import KMeans\n",
    "from sklearn.preprocessing import normalize, scale\n",
    "from math import sqrt,log\n",
    "import pandas as pd\n",
    "import tensorflow as tf\n",
    "import timeit \n",
    "\n",
    "from sklearn.model_selection import train_test_split \n",
    "from sklearn.neighbors import KNeighborsClassifier \n",
    "#import xgboost as xgb\n",
    "from sklearn.metrics import accuracy_score,classification_report,f1_score\n",
    "from sklearn.tree import DecisionTreeClassifier\n",
    "from sklearn.metrics import confusion_matrix\n",
    "from sklearn.naive_bayes import GaussianNB \n",
    "from sklearn.svm import SVC \n",
    "from sklearn.tree import DecisionTreeClassifier"
   ]
  },
  {
   "cell_type": "code",
   "execution_count": 3,
   "metadata": {},
   "outputs": [],
   "source": [
    "##few func defintions\n",
    "#normalize pdf area to 1:\n",
    "def normaliz(array):\n",
    "    normalized = []\n",
    "    s=sum(array)\n",
    "    for i in range(len(array)):\n",
    "        n=array[i]/s\n",
    "        normalized.append(n)\n",
    "    return normalized\n",
    "#Calculate mean\n",
    "def mean(array):\n",
    "    return sum(array)/float(len(array))\n",
    " \n",
    "# Calculate the standard deviation of a list of numbers\n",
    "def stdev(numbers):\n",
    "    avg = mean(numbers)\n",
    "    variance = sum([(x-avg)**2 for x in numbers]) / float(len(numbers)-1)\n",
    "    return sqrt(variance)\n",
    "#kl divergence\n",
    "def kl(p, q):\n",
    "    p = np.asarray(p, dtype=np.float)\n",
    "    q = np.asarray(q, dtype=np.float)\n",
    "    c = 0\n",
    "    for i in range(len(p)):\n",
    "        if(p[i]!=0) and (q[i]!=0):\n",
    "        #if(p[i]!=0):\n",
    "            c=c+p[i]*log(p[i]/q[i])     \n",
    "    return c\n",
    "    #return np.sum(np.where(p != 0 , p * np.log(p / q), 0))\n",
    "#distance function \n",
    "def dist(x,y):   \n",
    "    return sqrt(np.sum((x-y)**2))\n",
    "\n",
    "def cost(data,clusters):\n",
    "    k=len(clusters)\n",
    "    min_dist = []\n",
    "    for i in range(len(data)):\n",
    "        d = []\n",
    "        for j in range(k):\n",
    "            d.append(dist(data[i],clusters[j]))\n",
    "        min_dist.append(np.min(d))\n",
    "    cost = sum(min_dist)\n",
    "    return cost\n",
    "#kl divergence\n",
    "def kl(p, q):\n",
    "    p = np.asarray(p, dtype=np.float)\n",
    "    q = np.asarray(q, dtype=np.float)\n",
    "    c = 0\n",
    "    for i in range(len(p)):\n",
    "        if(p[i]!=0) and (q[i]!=0):\n",
    "        #if(p[i]!=0):\n",
    "            c=c+p[i]*log(p[i]/q[i])     \n",
    "    return c\n",
    "    #return np.sum(np.where(p != 0 , p * np.log(p / q), 0))\n",
    "    "
   ]
  },
  {
   "cell_type": "code",
   "execution_count": 4,
   "metadata": {},
   "outputs": [],
   "source": [
    "#window kernel\n",
    "def window_function(x_vec, unit_len=1):\n",
    "    for row in x_vec:\n",
    "        if np.abs(row) > (unit_len/2):\n",
    "            return 0\n",
    "    return 1\n",
    "\n",
    "def kernel_func(h, x, x_i):\n",
    "    assert (x.shape == x_i.shape), 'vectors x and x_i must have the same dimensions'\n",
    "    return (x - x_i) / h\n",
    "\n",
    "def window_func(x_vec, h):\n",
    "   \n",
    "    for row in x_vec:\n",
    "        if np.abs(row) > 0.5:\n",
    "            #print(row)\n",
    "            return 0\n",
    "    return 1\n",
    "    #dist=sqrt(np.sum((x_vec)**2))\n",
    "    #print(\"distance=\"+str(dist))\n",
    "    #if dist > 0.5:\n",
    "     #   return 0\n",
    "    #else: \n",
    "     #   return 1\n",
    "\n",
    "#main parzen window function\n",
    "def parzen_estimate(x_samples, point_x, h, d):\n",
    "    \n",
    "    k_n = 0\n",
    "    for row in x_samples:\n",
    "        x_i = kernel_func(h=h, x=point_x, x_i=row[:,np.newaxis])\n",
    "        #x_i = kernel_func(h=h, x=point_x, x_i=row)\n",
    "        k_n += window_func(x_i, h=h)\n",
    "        \n",
    "    #print(k_n)\n",
    "    temp1=float(k_n)/(h**d)\n",
    "    temp2=temp1/len(x_samples)\n",
    "    return temp2\n",
    "    #return (float(k_n) / len(x_samples)) / (h**d)\n",
    "    \n",
    "def covar(data):\n",
    "    mean_data=data.mean(axis=0)   \n",
    "    cov=np.zeros((len(mean_data),len(mean_data)))\n",
    "    for i in range(len(mean_data)):\n",
    "        for j in range(len(mean_data)):\n",
    "            for k in range(len(data)):\n",
    "                cov[i][j]=cov[i][j]+((data[k][i]-mean_data[i])*(data[k][j]-mean_data[j]))\n",
    "            cov[i][j]=cov[i][j]/(len(data)-1)\n",
    "    return cov  \n",
    "\n",
    "def show_img(data,idx):\n",
    "    data *= 255\n",
    "    im=np.reshape(data[idx],(28,28))\n",
    "    plt.imshow(im,cmap='Greys')"
   ]
  },
  {
   "cell_type": "code",
   "execution_count": 5,
   "metadata": {},
   "outputs": [],
   "source": [
    "#import MNIST train set\n",
    "#(x_train, y_train), (x_test, y_test) = tf.keras.datasets.mnist.load_data()\n",
    "x_train_df=pd.read_csv('mnist_train.csv', sep=',')\n",
    "\n",
    "#convert df to np\n",
    "x_train_temp_np=x_train_df.to_numpy()\n",
    "\n",
    "#dividing into labels and data \n",
    "x_train_data=x_train_temp_np[:, 1:785]\n",
    "x_train_label=x_train_temp_np[:,[0]]\n"
   ]
  },
  {
   "cell_type": "code",
   "execution_count": 7,
   "metadata": {},
   "outputs": [],
   "source": [
    "#import MNIST test set\n",
    "#(x_train, y_train), (x_test, y_test) = tf.keras.datasets.mnist.load_data()\n",
    "x_test_df=pd.read_csv('mnist_test.csv', sep=',')\n",
    "\n",
    "#convert df to np\n",
    "x_test_temp_np=x_test_df.to_numpy()\n",
    "\n",
    "#dividing into labels and data \n",
    "x_test_data=x_test_temp_np[:, 1:785]\n",
    "x_test_label=x_test_temp_np[:,[0]]\n",
    "\n"
   ]
  },
  {
   "cell_type": "code",
   "execution_count": 8,
   "metadata": {},
   "outputs": [
    {
     "name": "stdout",
     "output_type": "stream",
     "text": [
      "141\n"
     ]
    }
   ],
   "source": [
    "#normalizing both train and test data with max RGB value\n",
    "x_train_data_norm=x_train_data.astype('float')\n",
    "x_test_data_norm=x_test_data.astype('float')\n",
    "x_train_data_norm/=255\n",
    "x_test_data_norm/=255\n",
    "data_length=20000\n",
    "b=int(sqrt(data_length))\n",
    "print(b)"
   ]
  },
  {
   "cell_type": "code",
   "execution_count": 15,
   "metadata": {},
   "outputs": [
    {
     "name": "stdout",
     "output_type": "stream",
     "text": [
      "Score of SVM with full data :0.9286\n",
      "Full data runtime: 0.0005680000000438667\n"
     ]
    }
   ],
   "source": [
    "\n",
    "full_start = timeit.timeit()\n",
    "svm = SVC(kernel = 'linear', C = 1).fit(x_train_data_norm[20000:20000+data_length], x_train_label[20000:20000+data_length].ravel())\n",
    "full_end = timeit.timeit()\n",
    "score_svm_fulldata=svm.score(x_test_data_norm, x_test_label)\n",
    "\n",
    "fd_runtime = abs(full_end-full_start)\n",
    "\n",
    "print(\"Score of SVM with full data :\"+str(score_svm_fulldata))\n",
    "print(\"Full data runtime: \"+str(fd_runtime))"
   ]
  },
  {
   "cell_type": "code",
   "execution_count": 13,
   "metadata": {},
   "outputs": [],
   "source": [
    "#f_hist = np.histogram(x_train_data_norm[20000:20000+data_length], bins = int(b))[0]\n",
    "f_hist = np.histogram(x_train_data_norm[0:60000], bins = int(b))[0]\n",
    "f_hist_p=f_hist/float(sum(f_hist))\n"
   ]
  },
  {
   "cell_type": "code",
   "execution_count": 18,
   "metadata": {},
   "outputs": [
    {
     "name": "stdout",
     "output_type": "stream",
     "text": [
      "60000\n",
      "0 1.6470332834104986e-05\n",
      "1 1.6474284194154285e-05\n",
      "2 1.6463473925844486e-05\n",
      "3 1.6437504330492385e-05\n",
      "4 1.6470964425074262e-05\n",
      "5 1.647281559612006e-05\n",
      "6 1.647537172951358e-05\n",
      "7 1.6483690141958987e-05\n",
      "8 1.6468770733885004e-05\n",
      "9 1.646181456675853e-05\n",
      "10 1.647401522036313e-05\n",
      "11 1.6466158118707175e-05\n",
      "12 1.647211879052184e-05\n",
      "13 1.6473010160179016e-05\n",
      "14 1.646562669173606e-05\n",
      "15 1.6471281267631092e-05\n",
      "16 1.6464201600579218e-05\n",
      "17 1.6473035404195312e-05\n",
      "18 1.6457996008719533e-05\n",
      "19 1.6467333988980288e-05\n",
      "20 1.64838384385622e-05\n",
      "21 1.638269805790779e-05\n",
      "22 1.646034305454361e-05\n",
      "23 1.646997007699136e-05\n",
      "24 1.647200673832199e-05\n",
      "25 1.6474544103795756e-05\n",
      "26 1.6468733788269248e-05\n",
      "27 1.6486270010855462e-05\n",
      "28 1.6479201212444807e-05\n",
      "29 1.6460987782171774e-05\n",
      "30 1.6473526248164975e-05\n",
      "31 1.6472645972482496e-05\n",
      "32 1.646038227191531e-05\n",
      "33 1.6464558173784642e-05\n",
      "34 1.638301724405606e-05\n",
      "35 1.646607741292625e-05\n",
      "36 1.6481301127594208e-05\n",
      "37 1.638633439815732e-05\n",
      "38 1.6470812158387183e-05\n",
      "39 1.6474017527896173e-05\n",
      "40 1.6473407217272302e-05\n",
      "41 1.647491343792685e-05\n",
      "42 1.6467188246739123e-05\n",
      "43 1.6465796760839284e-05\n",
      "44 1.646803608562958e-05\n",
      "45 1.6466478347423874e-05\n",
      "46 1.6459174978161707e-05\n",
      "47 1.647721684274161e-05\n",
      "48 1.6468993312046147e-05\n",
      "49 1.647291657711408e-05\n",
      "50 1.6462152215569243e-05\n",
      "51 1.6482390220709026e-05\n",
      "52 1.6473921519402862e-05\n",
      "53 1.6463974857991567e-05\n",
      "54 1.6465507013923344e-05\n",
      "55 1.6479225299371867e-05\n",
      "56 1.6485483277881474e-05\n",
      "57 1.64678459657143e-05\n",
      "58 1.647770175553637e-05\n",
      "59 1.6467140068087246e-05\n",
      "60 1.6471176764006995e-05\n",
      "61 1.646693830928921e-05\n",
      "62 1.647871085029383e-05\n",
      "63 1.6368412819678727e-05\n",
      "64 1.6467695434053812e-05\n",
      "65 1.64693307696397e-05\n",
      "66 1.6479657432633306e-05\n",
      "67 1.646312943334976e-05\n",
      "68 1.6468136560999222e-05\n"
     ]
    },
    {
     "ename": "KeyboardInterrupt",
     "evalue": "",
     "output_type": "error",
     "traceback": [
      "\u001b[1;31m---------------------------------------------------------------------------\u001b[0m",
      "\u001b[1;31mKeyboardInterrupt\u001b[0m                         Traceback (most recent call last)",
      "\u001b[1;32m<ipython-input-18-5ccac0b17dc7>\u001b[0m in \u001b[0;36m<module>\u001b[1;34m\u001b[0m\n\u001b[0;32m      9\u001b[0m \u001b[1;32mfor\u001b[0m \u001b[0mk\u001b[0m \u001b[1;32min\u001b[0m \u001b[0mrange\u001b[0m\u001b[1;33m(\u001b[0m\u001b[0mlen\u001b[0m\u001b[1;33m(\u001b[0m\u001b[0mX_copy\u001b[0m\u001b[1;33m)\u001b[0m\u001b[1;33m)\u001b[0m\u001b[1;33m:\u001b[0m\u001b[1;33m\u001b[0m\u001b[1;33m\u001b[0m\u001b[0m\n\u001b[0;32m     10\u001b[0m     \u001b[0mX_temp\u001b[0m\u001b[1;33m=\u001b[0m\u001b[0mnp\u001b[0m\u001b[1;33m.\u001b[0m\u001b[0mdelete\u001b[0m\u001b[1;33m(\u001b[0m\u001b[0mX_copy\u001b[0m\u001b[1;33m,\u001b[0m \u001b[1;33m[\u001b[0m\u001b[0mk\u001b[0m\u001b[1;33m]\u001b[0m\u001b[1;33m,\u001b[0m \u001b[0maxis\u001b[0m\u001b[1;33m=\u001b[0m\u001b[1;36m0\u001b[0m\u001b[1;33m)\u001b[0m\u001b[1;33m\u001b[0m\u001b[1;33m\u001b[0m\u001b[0m\n\u001b[1;32m---> 11\u001b[1;33m     \u001b[0mX_del\u001b[0m \u001b[1;33m=\u001b[0m \u001b[0mnp\u001b[0m\u001b[1;33m.\u001b[0m\u001b[0mhistogram\u001b[0m\u001b[1;33m(\u001b[0m\u001b[0mX_temp\u001b[0m\u001b[1;33m,\u001b[0m \u001b[0mbins\u001b[0m \u001b[1;33m=\u001b[0m \u001b[0mint\u001b[0m\u001b[1;33m(\u001b[0m\u001b[0mb\u001b[0m\u001b[1;33m)\u001b[0m\u001b[1;33m)\u001b[0m\u001b[1;33m[\u001b[0m\u001b[1;36m0\u001b[0m\u001b[1;33m]\u001b[0m\u001b[1;33m\u001b[0m\u001b[1;33m\u001b[0m\u001b[0m\n\u001b[0m\u001b[0;32m     12\u001b[0m     \u001b[1;31m#X_del = fast_histogram.histogram1d(X_temp, bins = int(b),range=(0,1))[0]\u001b[0m\u001b[1;33m\u001b[0m\u001b[1;33m\u001b[0m\u001b[1;33m\u001b[0m\u001b[0m\n\u001b[0;32m     13\u001b[0m     \u001b[0mX_del_p\u001b[0m\u001b[1;33m=\u001b[0m\u001b[0mX_del\u001b[0m\u001b[1;33m/\u001b[0m\u001b[0mfloat\u001b[0m\u001b[1;33m(\u001b[0m\u001b[0msum\u001b[0m\u001b[1;33m(\u001b[0m\u001b[0mX_del\u001b[0m\u001b[1;33m)\u001b[0m\u001b[1;33m)\u001b[0m\u001b[1;33m\u001b[0m\u001b[1;33m\u001b[0m\u001b[0m\n",
      "\u001b[1;32m~\\AppData\\Local\\Continuum\\anaconda3\\lib\\site-packages\\numpy\\lib\\histograms.py\u001b[0m in \u001b[0;36mhistogram\u001b[1;34m(a, bins, range, normed, weights, density)\u001b[0m\n\u001b[0;32m    857\u001b[0m             \u001b[1;32melse\u001b[0m\u001b[1;33m:\u001b[0m\u001b[1;33m\u001b[0m\u001b[1;33m\u001b[0m\u001b[0m\n\u001b[0;32m    858\u001b[0m                 n += np.bincount(indices, weights=tmp_w,\n\u001b[1;32m--> 859\u001b[1;33m                                  minlength=n_equal_bins).astype(ntype)\n\u001b[0m\u001b[0;32m    860\u001b[0m     \u001b[1;32melse\u001b[0m\u001b[1;33m:\u001b[0m\u001b[1;33m\u001b[0m\u001b[1;33m\u001b[0m\u001b[0m\n\u001b[0;32m    861\u001b[0m         \u001b[1;31m# Compute via cumulative histogram\u001b[0m\u001b[1;33m\u001b[0m\u001b[1;33m\u001b[0m\u001b[1;33m\u001b[0m\u001b[0m\n",
      "\u001b[1;31mKeyboardInterrupt\u001b[0m: "
     ]
    }
   ],
   "source": [
    "#coreset procedure begins\n",
    "#THE KLD method now.\n",
    "#First remove element with replacement to calculated KLD and append with the data points\n",
    "X_copy=x_train_data_norm[0:60000] #make a copy of data and work on the copy\n",
    "print(len(X_copy))\n",
    "\n",
    "#print(X_copy)\n",
    "kl_weight = []\n",
    "for k in range(len(X_copy)):\n",
    "    X_temp=np.delete(X_copy, [k], axis=0)\n",
    "    X_del = np.histogram(X_temp, bins = int(b))[0]\n",
    "    #X_del = fast_histogram.histogram1d(X_temp, bins = int(b),range=(0,1))[0]\n",
    "    X_del_p=X_del/float(sum(X_del))\n",
    "   \n",
    "    div=kl(X_del_p,f_hist_p)\n",
    "    print(k,div)\n",
    "    kl_weight.append(div)"
   ]
  },
  {
   "cell_type": "code",
   "execution_count": 15,
   "metadata": {},
   "outputs": [
    {
     "data": {
      "text/plain": [
       "[<matplotlib.lines.Line2D at 0x240229afd48>]"
      ]
     },
     "execution_count": 15,
     "metadata": {},
     "output_type": "execute_result"
    },
    {
     "data": {
      "image/png": "[encoded data removed]",
      "text/plain": [
       "<Figure size 432x288 with 1 Axes>"
      ]
     },
     "metadata": {
      "needs_background": "light"
     },
     "output_type": "display_data"
    }
   ],
   "source": [
    "plt.plot(kl_weight)"
   ]
  },
  {
   "cell_type": "code",
   "execution_count": 16,
   "metadata": {},
   "outputs": [],
   "source": [
    "#save KL_weight as pandas data so that it can be used later \n",
    "df_KL60_save = pd.DataFrame(data=kl_weight, columns=[\"KL60_weight\"])\n",
    "df_KL60_save.to_csv(r'MNIST_KL60.csv', index = False)\n",
    "\n",
    "#df_KL60_save = pd.DataFrame(data=kl_weight, columns=[\"KL60_weight\"])\n",
    "#df_KL60_save.to_csv(r'MNIST_KL60.csv', index = False)"
   ]
  },
  {
   "cell_type": "code",
   "execution_count": 79,
   "metadata": {},
   "outputs": [
    {
     "data": {
      "text/plain": [
       "[<matplotlib.lines.Line2D at 0x7fb2ad092290>]"
      ]
     },
     "execution_count": 79,
     "metadata": {},
     "output_type": "execute_result"
    },
    {
     "data": {
      "image/png": "[encoded data removed]",
      "text/plain": [
       "<Figure size 432x288 with 1 Axes>"
      ]
     },
     "metadata": {
      "needs_background": "light"
     },
     "output_type": "display_data"
    }
   ],
   "source": [
    "df=pd.read_csv('MNIST_KL20.csv')#load 20K\n",
    "kl_load=df.to_numpy()\n",
    "plt.plot(kl_load)"
   ]
  },
  {
   "cell_type": "code",
   "execution_count": 80,
   "metadata": {},
   "outputs": [],
   "source": [
    "#append label and KL weight and sort\n",
    "x_data_label_merge=np.column_stack((x_train_data_norm[0:data_length],x_train_label[0:data_length]))\n",
    "x_data_label_kl_merge=np.column_stack((x_data_label_merge,kl_load))\n",
    "x_data_label_kl_merge_sort=x_data_label_kl_merge[x_data_label_kl_merge[:,2].argsort()]\n"
   ]
  },
  {
   "cell_type": "code",
   "execution_count": null,
   "metadata": {},
   "outputs": [
    {
     "name": "stdout",
     "output_type": "stream",
     "text": [
      "Size of Coreset: 2000\n",
      "Ratio done: 0.1\n",
      "SVM_Accuracy: 0.8138\n",
      "=====================\n",
      "Size of Coreset: 6000\n",
      "Ratio done: 0.3\n",
      "SVM_Accuracy: 0.8624\n",
      "=====================\n",
      "Size of Coreset: 10000\n",
      "Ratio done: 0.5\n",
      "SVM_Accuracy: 0.8569\n",
      "=====================\n",
      "Size of Coreset: 14000\n",
      "Ratio done: 0.7\n",
      "SVM_Accuracy: 0.8604\n",
      "=====================\n",
      "Size of Coreset: 18000\n"
     ]
    }
   ],
   "source": [
    "perc=[0.1,0.3,0.5,0.7,0.9]\n",
    "\n",
    "svm_acc = []\n",
    "time_coreset = []\n",
    "for i in range(len(perc)):\n",
    "    \n",
    "    coreset_size=int(perc[i]*len(kl_load))\n",
    "    coreset_data_label=x_data_label_kl_merge_sort[(data_length-coreset_size):data_length]\n",
    "    coreset_data=coreset_data_label[:, 0:784]\n",
    "    coreset_label=coreset_data_label[:,[784]]\n",
    "    print(\"Size of Coreset: \" +str(len(coreset_data)))\n",
    "    \n",
    "    #train svm with coreset\n",
    "    start = timeit.timeit()\n",
    "    svm_coreset = SVC(kernel = 'linear', C = 1).fit(coreset_data, coreset_label.ravel())\n",
    "    end = timeit.timeit()\n",
    "    \n",
    "    #prediction and score\n",
    "    pred = svm_coreset.predict(x_test_data_norm)\n",
    "    #score_svm_coreset=svm_coreset.score(x_test_data_norm, x_test_label)\n",
    "    score_svm_coreset=accuracy_score(x_test_label, pred)\n",
    "    svm_acc.append(score_svm_coreset)\n",
    "    \n",
    "    \n",
    "    t=abs(end-start)\n",
    "    time_coreset.append(t)\n",
    "    \n",
    "    print(\"Ratio done: \"+str(perc[i]))\n",
    "    #print(\"Runtime: \"+str(t))\n",
    "    print(\"SVM_Accuracy: \"+str(score_svm_coreset))\n",
    "    print(\"=====================\")\n",
    "\n"
   ]
  },
  {
   "cell_type": "code",
   "execution_count": 54,
   "metadata": {},
   "outputs": [
    {
     "data": {
      "text/plain": [
       "[<matplotlib.lines.Line2D at 0x7fa3ffbf53d0>]"
      ]
     },
     "execution_count": 54,
     "metadata": {},
     "output_type": "execute_result"
    },
    {
     "data": {
      "image/png": "[encoded data removed]",
      "text/plain": [
       "<Figure size 432x288 with 1 Axes>"
      ]
     },
     "metadata": {
      "needs_background": "light"
     },
     "output_type": "display_data"
    }
   ],
   "source": [
    "plt.grid(True)\n",
    "plt.xlabel('Coreset size = Percentage of full set')\n",
    "plt.ylabel('SVM_accuracy')\n",
    "plt.title('SVM_acc at increasing coreset size')\n",
    "plt.plot(perc,svm_acc)"
   ]
  },
  {
   "cell_type": "code",
   "execution_count": null,
   "metadata": {},
   "outputs": [],
   "source": []
  }
 ],
 "metadata": {
  "kernelspec": {
   "display_name": "Python 3",
   "language": "python",
   "name": "python3"
  },
  "language_info": {
   "codemirror_mode": {
    "name": "ipython",
    "version": 3
   },
   "file_extension": ".py",
   "mimetype": "text/x-python",
   "name": "python",
   "nbconvert_exporter": "python",
   "pygments_lexer": "ipython3",
   "version": "3.7.6"
  }
 },
 "nbformat": 4,
 "nbformat_minor": 1
}
