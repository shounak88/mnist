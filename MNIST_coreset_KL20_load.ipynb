{
 "cells": [
  {
   "cell_type": "code",
   "execution_count": 1,
   "metadata": {},
   "outputs": [
    {
     "name": "stdout",
     "output_type": "stream",
     "text": [
      "running build_ext\n",
      "gcc -pthread -B /root/anaconda3/envs/py2/compiler_compat -Wl,--sysroot=/ -fno-strict-aliasing -g -O2 -DNDEBUG -g -fwrapv -O3 -Wall -Wstrict-prototypes -fPIC -I/root/anaconda3/envs/py2/include/python2.7 -c /tmp/tmph1jl9K.cpp -o tmp/tmph1jl9K.o -std=c++14\n",
      "\u001b[01m\u001b[Kcc1plus:\u001b[m\u001b[K \u001b[01;35m\u001b[Kwarning: \u001b[m\u001b[Kcommand line option '\u001b[01m\u001b[K-Wstrict-prototypes\u001b[m\u001b[K' is valid for C/ObjC but not for C++\n",
      "gcc -pthread -B /root/anaconda3/envs/py2/compiler_compat -Wl,--sysroot=/ -fno-strict-aliasing -g -O2 -DNDEBUG -g -fwrapv -O3 -Wall -Wstrict-prototypes -fPIC -I/root/anaconda3/envs/py2/include/python2.7 -c /tmp/tmpxzmB58.cpp -o tmp/tmpxzmB58.o -fvisibility=hidden\n",
      "\u001b[01m\u001b[Kcc1plus:\u001b[m\u001b[K \u001b[01;35m\u001b[Kwarning: \u001b[m\u001b[Kcommand line option '\u001b[01m\u001b[K-Wstrict-prototypes\u001b[m\u001b[K' is valid for C/ObjC but not for C++\n",
      "building 'coresets.sensitivity' extension\n",
      "gcc -pthread -B /root/anaconda3/envs/py2/compiler_compat -Wl,--sysroot=/ -fno-strict-aliasing -g -O2 -DNDEBUG -g -fwrapv -O3 -Wall -Wstrict-prototypes -fPIC -I/root/anaconda3/envs/py2/include -I/root/anaconda3/envs/py2/include -I/root/anaconda3/envs/py2/include/python2.7 -c src/sensitivity.cpp -o build/temp.linux-x86_64-2.7/src/sensitivity.o -DVERSION_INFO=\"0.0.1\" -std=c++14 -fvisibility=hidden\n",
      "\u001b[01m\u001b[Kgcc:\u001b[m\u001b[K \u001b[01;31m\u001b[Kerror: \u001b[m\u001b[Ksrc/sensitivity.cpp: No such file or directory\n",
      "error: command 'gcc' failed with exit status 1\n"
     ]
    }
   ],
   "source": [
    "!python ../setup.py build_ext --inplace"
   ]
  },
  {
   "cell_type": "code",
   "execution_count": 2,
   "metadata": {},
   "outputs": [
    {
     "name": "stdout",
     "output_type": "stream",
     "text": [
      "Python 2.7.17 :: Anaconda, Inc.\r\n"
     ]
    }
   ],
   "source": [
    "!python --version"
   ]
  },
  {
   "cell_type": "code",
   "execution_count": 1,
   "metadata": {},
   "outputs": [],
   "source": [
    "%matplotlib inline\n",
    "import numpy as np\n",
    "import matplotlib.pyplot as plt\n",
    "import os\n",
    "import sys\n",
    "module_path = os.path.abspath(os.path.join('..'))\n",
    "if module_path not in sys.path:\n",
    "    sys.path.append(module_path)\n",
    "np.random.seed(42)\n",
    "#from utils import datagen, plotting\n",
    "#import coresets\n",
    "#import algorithms\n",
    "#import csv\n",
    "import math\n",
    "from sklearn.cluster import KMeans\n",
    "from sklearn.preprocessing import normalize, scale\n",
    "from math import sqrt,log\n",
    "import pandas as pd\n",
    "import tensorflow as tf\n",
    "import timeit \n",
    "\n",
    "from sklearn.model_selection import train_test_split \n",
    "from sklearn.neighbors import KNeighborsClassifier \n",
    "#import xgboost as xgb\n",
    "from sklearn.metrics import accuracy_score,classification_report,f1_score\n",
    "from sklearn.tree import DecisionTreeClassifier\n",
    "from sklearn.metrics import confusion_matrix\n",
    "from sklearn.naive_bayes import GaussianNB \n",
    "from sklearn.svm import SVC \n",
    "from sklearn.tree import DecisionTreeClassifier"
   ]
  },
  {
   "cell_type": "code",
   "execution_count": 2,
   "metadata": {},
   "outputs": [],
   "source": [
    "##few func defintions\n",
    "#normalize pdf area to 1:\n",
    "def normaliz(array):\n",
    "    normalized = []\n",
    "    s=sum(array)\n",
    "    for i in range(len(array)):\n",
    "        n=array[i]/s\n",
    "        normalized.append(n)\n",
    "    return normalized\n",
    "#Calculate mean\n",
    "def mean(array):\n",
    "    return sum(array)/float(len(array))\n",
    " \n",
    "# Calculate the standard deviation of a list of numbers\n",
    "def stdev(numbers):\n",
    "    avg = mean(numbers)\n",
    "    variance = sum([(x-avg)**2 for x in numbers]) / float(len(numbers)-1)\n",
    "    return sqrt(variance)\n",
    "#kl divergence\n",
    "def kl(p, q):\n",
    "    p = np.asarray(p, dtype=np.float)\n",
    "    q = np.asarray(q, dtype=np.float)\n",
    "    c = 0\n",
    "    for i in range(len(p)):\n",
    "        if(p[i]!=0) and (q[i]!=0):\n",
    "        #if(p[i]!=0):\n",
    "            c=c+p[i]*log(p[i]/q[i])     \n",
    "    return c\n",
    "    #return np.sum(np.where(p != 0 , p * np.log(p / q), 0))\n",
    "    \n",
    "def dist(x,y):   \n",
    "    return sqrt(np.sum((x-y)**2))\n",
    "\n",
    "def cost(data,clusters):\n",
    "    k=len(clusters)\n",
    "    min_dist = []\n",
    "    for i in range(len(data)):\n",
    "        d = []\n",
    "        for j in range(k):\n",
    "            d.append(dist(data[i],clusters[j]))\n",
    "        min_dist.append(np.min(d))\n",
    "    cost = sum(min_dist)\n",
    "    return cost\n",
    "#kl divergence\n",
    "def kl(p, q):\n",
    "    p = np.asarray(p, dtype=np.float)\n",
    "    q = np.asarray(q, dtype=np.float)\n",
    "    c = 0\n",
    "    for i in range(len(p)):\n",
    "        if(p[i]!=0) and (q[i]!=0):\n",
    "        #if(p[i]!=0):\n",
    "            c=c+p[i]*log(p[i]/q[i])     \n",
    "    return c\n",
    "    #return np.sum(np.where(p != 0 , p * np.log(p / q), 0))\n",
    "    "
   ]
  },
  {
   "cell_type": "code",
   "execution_count": 3,
   "metadata": {},
   "outputs": [],
   "source": [
    "#window kernel\n",
    "def window_function(x_vec, unit_len=1):\n",
    "    for row in x_vec:\n",
    "        if np.abs(row) > (unit_len/2):\n",
    "            return 0\n",
    "    return 1\n",
    "\n",
    "def kernel_func(h, x, x_i):\n",
    "    assert (x.shape == x_i.shape), 'vectors x and x_i must have the same dimensions'\n",
    "    return (x - x_i) / h\n",
    "\n",
    "def window_func(x_vec, h):\n",
    "   \n",
    "    for row in x_vec:\n",
    "        if np.abs(row) > 0.5:\n",
    "            #print(row)\n",
    "            return 0\n",
    "    return 1\n",
    "    #dist=sqrt(np.sum((x_vec)**2))\n",
    "    #print(\"distance=\"+str(dist))\n",
    "    #if dist > 0.5:\n",
    "     #   return 0\n",
    "    #else: \n",
    "     #   return 1\n",
    "\n",
    "#main parzen window function\n",
    "def parzen_estimate(x_samples, point_x, h, d):\n",
    "    \n",
    "    k_n = 0\n",
    "    for row in x_samples:\n",
    "        x_i = kernel_func(h=h, x=point_x, x_i=row[:,np.newaxis])\n",
    "        #x_i = kernel_func(h=h, x=point_x, x_i=row)\n",
    "        k_n += window_func(x_i, h=h)\n",
    "        \n",
    "    #print(k_n)\n",
    "    temp1=float(k_n)/(h**d)\n",
    "    temp2=temp1/len(x_samples)\n",
    "    return temp2\n",
    "    #return (float(k_n) / len(x_samples)) / (h**d)\n",
    "    \n",
    "def covar(data):\n",
    "    mean_data=data.mean(axis=0)   \n",
    "    cov=np.zeros((len(mean_data),len(mean_data)))\n",
    "    for i in range(len(mean_data)):\n",
    "        for j in range(len(mean_data)):\n",
    "            for k in range(len(data)):\n",
    "                cov[i][j]=cov[i][j]+((data[k][i]-mean_data[i])*(data[k][j]-mean_data[j]))\n",
    "            cov[i][j]=cov[i][j]/(len(data)-1)\n",
    "    return cov  \n",
    "\n",
    "def show_img(data,idx):\n",
    "    data *= 255\n",
    "    im=np.reshape(data[idx],(28,28))\n",
    "    plt.imshow(im,cmap='Greys')"
   ]
  },
  {
   "cell_type": "code",
   "execution_count": 4,
   "metadata": {},
   "outputs": [],
   "source": [
    "#import MNIST train set\n",
    "#(x_train, y_train), (x_test, y_test) = tf.keras.datasets.mnist.load_data()\n",
    "x_train_df=pd.read_csv('mnist_train.csv', sep=',')\n",
    "\n",
    "#convert df to np\n",
    "x_train_temp_np=x_train_df.to_numpy()\n",
    "\n",
    "#dividing into labels and data \n",
    "x_train_data=x_train_temp_np[:, 1:785]\n",
    "x_train_label=x_train_temp_np[:,[0]]\n"
   ]
  },
  {
   "cell_type": "code",
   "execution_count": 5,
   "metadata": {},
   "outputs": [],
   "source": [
    "#import MNIST test set\n",
    "#(x_train, y_train), (x_test, y_test) = tf.keras.datasets.mnist.load_data()\n",
    "x_test_df=pd.read_csv('mnist_test.csv', sep=',')\n",
    "\n",
    "#convert df to np\n",
    "x_test_temp_np=x_test_df.to_numpy()\n",
    "\n",
    "#dividing into labels and data \n",
    "x_test_data=x_test_temp_np[:, 1:785]\n",
    "x_test_label=x_test_temp_np[:,[0]]\n",
    "\n"
   ]
  },
  {
   "cell_type": "code",
   "execution_count": 6,
   "metadata": {},
   "outputs": [
    {
     "name": "stdout",
     "output_type": "stream",
     "text": [
      "141\n"
     ]
    }
   ],
   "source": [
    "#normalizing both train and test data with max RGB value\n",
    "x_train_data_norm=x_train_data.astype('float')\n",
    "x_test_data_norm=x_test_data.astype('float')\n",
    "x_train_data_norm/=255\n",
    "x_test_data_norm/=255\n",
    "data_length=20000\n",
    "b=int(sqrt(data_length))\n",
    "print(b)"
   ]
  },
  {
   "cell_type": "code",
   "execution_count": 7,
   "metadata": {},
   "outputs": [
    {
     "data": {
      "image/png": "[encoded data removed]",
      "text/plain": [
       "<Figure size 432x288 with 1 Axes>"
      ]
     },
     "metadata": {
      "needs_background": "light"
     },
     "output_type": "display_data"
    },
    {
     "data": {
      "image/png": "[encoded data removed]",
      "text/plain": [
       "<Figure size 432x288 with 1 Axes>"
      ]
     },
     "metadata": {
      "needs_background": "light"
     },
     "output_type": "display_data"
    },
    {
     "data": {
      "image/png": "[encoded data removed]",
      "text/plain": [
       "<Figure size 432x288 with 1 Axes>"
      ]
     },
     "metadata": {
      "needs_background": "light"
     },
     "output_type": "display_data"
    }
   ],
   "source": [
    "df=pd.read_csv('MNIST_KL20.csv')#load 20K\n",
    "kl_load20=df.to_numpy()\n",
    "plt.plot(kl_load20)\n",
    "plt.show()\n",
    "df=pd.read_csv('MNIST_KL2040.csv')#load 20Kto40k\n",
    "kl_load2040=df.to_numpy()\n",
    "plt.plot(range(20000,40000),kl_load2040)\n",
    "plt.show()\n",
    "df=pd.read_csv('MNIST_KL4060.csv')#load 40Kto60k\n",
    "kl_load4060=df.to_numpy()\n",
    "plt.plot(range(40000,60000),kl_load4060)\n",
    "plt.show()"
   ]
  },
  {
   "cell_type": "code",
   "execution_count": 16,
   "metadata": {},
   "outputs": [
    {
     "name": "stdout",
     "output_type": "stream",
     "text": [
      "Score of SVM with full data :0.8731\n",
      "Full data runtime: 0.0001109000004362315\n"
     ]
    }
   ],
   "source": [
    "\n",
    "full_start = timeit.timeit()\n",
    "svm = SVC(kernel = 'linear', C = 1).fit(x_train_data_norm[0:60000], x_train_label[0:60000].ravel())\n",
    "full_end = timeit.timeit()\n",
    "score_svm_fulldata=svm.score(x_test_data_norm, x_test_label)\n",
    "\n",
    "fd_runtime = abs(full_end-full_start)\n",
    "\n",
    "print(\"Score of SVM with full data :\"+str(score_svm_fulldata))\n",
    "print(\"Full data runtime: \"+str(fd_runtime))"
   ]
  },
  {
   "cell_type": "code",
   "execution_count": 8,
   "metadata": {},
   "outputs": [],
   "source": [
    "#coreset procedure begins\n",
    "#appending the KL records\n",
    "temp=np.vstack((kl_load20,kl_load2040))\n",
    "kl_load_full=np.vstack((temp,kl_load4060))\n",
    "\n",
    "#append label and KL weight and sort\n",
    "x_data_label_merge=np.column_stack((x_train_data_norm[0:60000],x_train_label[0:60000]))\n",
    "x_data_label_kl_merge=np.column_stack((x_data_label_merge,kl_load_full))\n",
    "x_data_label_kl_merge_sort=x_data_label_kl_merge[x_data_label_kl_merge[:,785].argsort()]\n"
   ]
  },
  {
   "cell_type": "code",
   "execution_count": 9,
   "metadata": {},
   "outputs": [
    {
     "name": "stdout",
     "output_type": "stream",
     "text": [
      "Following digit to be recognized:\n"
     ]
    },
    {
     "data": {
      "image/png": "[encoded data removed]",
      "text/plain": [
       "<Figure size 432x288 with 1 Axes>"
      ]
     },
     "metadata": {
      "needs_background": "light"
     },
     "output_type": "display_data"
    }
   ],
   "source": [
    "index = 2001 #, 1890,3001\n",
    "print(\"Following digit to be recognized:\")\n",
    "show_img(x_test_data_norm,index)"
   ]
  },
  {
   "cell_type": "code",
   "execution_count": 10,
   "metadata": {},
   "outputs": [
    {
     "name": "stdout",
     "output_type": "stream",
     "text": [
      "Begin test: \n",
      "Size of Coreset: 6000\n",
      "Test Label: [5]\n",
      "Predicted label: [8.]\n",
      "Ratio done: 0.1\n",
      "SVM_Accuracy: 0.7629\n",
      "=====================\n",
      "Size of Coreset: 12000\n",
      "Test Label: [5]\n",
      "Predicted label: [8.]\n",
      "Ratio done: 0.2\n",
      "SVM_Accuracy: 0.7833\n",
      "=====================\n",
      "Size of Coreset: 18000\n",
      "Test Label: [5]\n",
      "Predicted label: [8.]\n",
      "Ratio done: 0.3\n",
      "SVM_Accuracy: 0.7837\n",
      "=====================\n",
      "Size of Coreset: 24000\n",
      "Test Label: [5]\n",
      "Predicted label: [8.]\n",
      "Ratio done: 0.4\n",
      "SVM_Accuracy: 0.8365\n",
      "=====================\n",
      "Size of Coreset: 30000\n",
      "Test Label: [5]\n",
      "Predicted label: [8.]\n",
      "Ratio done: 0.5\n",
      "SVM_Accuracy: 0.8526\n",
      "=====================\n",
      "Size of Coreset: 36000\n",
      "Test Label: [5]\n",
      "Predicted label: [8.]\n",
      "Ratio done: 0.6\n",
      "SVM_Accuracy: 0.8628\n",
      "=====================\n",
      "Size of Coreset: 42000\n",
      "Test Label: [5]\n",
      "Predicted label: [8.]\n",
      "Ratio done: 0.7\n",
      "SVM_Accuracy: 0.8712\n",
      "=====================\n",
      "Size of Coreset: 48000\n",
      "Test Label: [5]\n",
      "Predicted label: [8.]\n",
      "Ratio done: 0.8\n",
      "SVM_Accuracy: 0.8789\n",
      "=====================\n",
      "Size of Coreset: 54000\n",
      "Test Label: [5]\n",
      "Predicted label: [8.]\n",
      "Ratio done: 0.9\n",
      "SVM_Accuracy: 0.8765\n",
      "=====================\n"
     ]
    }
   ],
   "source": [
    "perc=[0.1,0.2,0.3,0.4,0.5,0.6,0.7,0.8,0.9]\n",
    "#perc=[0.1]\n",
    "\n",
    "svm_acc = []\n",
    "time_coreset = []\n",
    "svm_coreset_model=[0]*len(perc)\n",
    "print(\"Begin test: \")\n",
    "for i in range(len(perc)):\n",
    "    \n",
    "    coreset_size=int(perc[i]*len(kl_load_full))\n",
    "    coreset_data_label=x_data_label_kl_merge_sort[(60000-coreset_size):60000]\n",
    "    coreset_data=coreset_data_label[:, 0:784]\n",
    "    coreset_label=coreset_data_label[:,[784]]\n",
    "    print(\"Size of Coreset: \" +str(len(coreset_data)))\n",
    "    \n",
    "    #train svm with coreset\n",
    "    start = timeit.timeit()\n",
    "    svm_coreset_model[i] = SVC(kernel = 'linear', C = 1).fit(coreset_data, coreset_label.ravel())\n",
    "    end = timeit.timeit()\n",
    "    \n",
    "    #prediction and score\n",
    "    pred = svm_coreset_model[i].predict(x_test_data_norm)\n",
    "    #score_svm_coreset=svm_coreset.score(x_test_data_norm, x_test_label)\n",
    "    score_svm_coreset=accuracy_score(x_test_label, pred)\n",
    "    svm_acc.append(score_svm_coreset)\n",
    "    \n",
    "    #test model on chosen image\n",
    "    \n",
    "    result=svm_coreset_model[i].predict([x_test_data_norm[index]])\n",
    "    print(\"Test Label: \"+str(x_test_label[index]))\n",
    "    print(\"Predicted label: \"+str(result))\n",
    "    \n",
    "    \n",
    "    t=abs(end-start)\n",
    "    time_coreset.append(t)\n",
    "    \n",
    "    print(\"Ratio done: \"+str(perc[i]))\n",
    "    #print(\"Runtime: \"+str(t))\n",
    "    print(\"SVM_Accuracy: \"+str(score_svm_coreset))\n",
    "    print(\"=====================\")\n",
    "\n"
   ]
  },
  {
   "cell_type": "code",
   "execution_count": 11,
   "metadata": {},
   "outputs": [
    {
     "data": {
      "image/png": "[encoded data removed]",
      "text/plain": [
       "<Figure size 432x288 with 1 Axes>"
      ]
     },
     "metadata": {
      "needs_background": "light"
     },
     "output_type": "display_data"
    }
   ],
   "source": [
    "\n",
    "plt.grid(True)\n",
    "plt.xlabel('Coreset size = Percentage of full set')\n",
    "plt.ylabel('SVM_accuracy')\n",
    "plt.title('SVM_acc at increasing coreset size')\n",
    "plt.plot(perc,svm_acc,label=\"Coreset accuracy\")\n",
    "#plt.plot(perc,f_acc,label=\"Full set accuracy level\")\n",
    "#plt.legend(loc=\"bottom right\")\n",
    "plt.savefig(\"Svm_acc.png\")"
   ]
  },
  {
   "cell_type": "code",
   "execution_count": 13,
   "metadata": {},
   "outputs": [
    {
     "data": {
      "text/plain": [
       "[0.7629, 0.7833, 0.7837, 0.8365, 0.8526, 0.8628, 0.8712, 0.8789, 0.8765]"
      ]
     },
     "execution_count": 13,
     "metadata": {},
     "output_type": "execute_result"
    }
   ],
   "source": [
    "svm_acc"
   ]
  },
  {
   "cell_type": "code",
   "execution_count": 14,
   "metadata": {},
   "outputs": [
    {
     "name": "stdout",
     "output_type": "stream",
     "text": [
      "Following digit to be recognized:\n"
     ]
    },
    {
     "data": {
      "image/png": "[encoded data removed]",
      "text/plain": [
       "<Figure size 432x288 with 1 Axes>"
      ]
     },
     "metadata": {
      "needs_background": "light"
     },
     "output_type": "display_data"
    },
    {
     "name": "stdout",
     "output_type": "stream",
     "text": [
      "Test Sample No: 8440\n",
      "Test sample: [8]\n",
      "Predicted Label: [8.]\n",
      "Predicted Label: [8.]\n",
      "Predicted Label: [8.]\n",
      "Predicted Label: [8.]\n",
      "Predicted Label: [8.]\n",
      "Predicted Label: [8.]\n",
      "Predicted Label: [8.]\n",
      "Predicted Label: [8.]\n",
      "Predicted Label: [8.]\n",
      "========================\n",
      "Test Label: [8]\n",
      "All predictions: \n",
      "[array([8.]), array([8.]), array([8.]), array([8.]), array([8.]), array([8.]), array([8.]), array([8.]), array([8.])]\n",
      "Following digit to be recognized:\n"
     ]
    },
    {
     "data": {
      "image/png": "[encoded data removed]",
      "text/plain": [
       "<Figure size 432x288 with 1 Axes>"
      ]
     },
     "metadata": {
      "needs_background": "light"
     },
     "output_type": "display_data"
    },
    {
     "name": "stdout",
     "output_type": "stream",
     "text": [
      "Test Sample No: 1705\n",
      "Test sample: [7]\n",
      "Predicted Label: [7.]\n",
      "Predicted Label: [9.]\n",
      "Predicted Label: [9.]\n",
      "Predicted Label: [7.]\n",
      "Predicted Label: [7.]\n",
      "Predicted Label: [7.]\n",
      "Predicted Label: [7.]\n",
      "Predicted Label: [7.]\n",
      "Predicted Label: [7.]\n",
      "========================\n",
      "Test Label: [7]\n",
      "All predictions: \n",
      "[array([7.]), array([9.]), array([9.]), array([7.]), array([7.]), array([7.]), array([7.]), array([7.]), array([7.])]\n",
      "Following digit to be recognized:\n"
     ]
    },
    {
     "data": {
      "image/png": "[encoded data removed]",
      "text/plain": [
       "<Figure size 432x288 with 1 Axes>"
      ]
     },
     "metadata": {
      "needs_background": "light"
     },
     "output_type": "display_data"
    },
    {
     "name": "stdout",
     "output_type": "stream",
     "text": [
      "Test Sample No: 4390\n",
      "Test sample: [8]\n",
      "Predicted Label: [8.]\n",
      "Predicted Label: [8.]\n",
      "Predicted Label: [8.]\n",
      "Predicted Label: [8.]\n",
      "Predicted Label: [8.]\n",
      "Predicted Label: [8.]\n",
      "Predicted Label: [8.]\n",
      "Predicted Label: [8.]\n",
      "Predicted Label: [8.]\n",
      "========================\n",
      "Test Label: [8]\n",
      "All predictions: \n",
      "[array([8.]), array([8.]), array([8.]), array([8.]), array([8.]), array([8.]), array([8.]), array([8.]), array([8.])]\n",
      "Following digit to be recognized:\n"
     ]
    },
    {
     "data": {
      "image/png": "[encoded data removed]",
      "text/plain": [
       "<Figure size 432x288 with 1 Axes>"
      ]
     },
     "metadata": {
      "needs_background": "light"
     },
     "output_type": "display_data"
    },
    {
     "name": "stdout",
     "output_type": "stream",
     "text": [
      "Test Sample No: 9382\n",
      "Test sample: [5]\n",
      "Predicted Label: [5.]\n",
      "Predicted Label: [5.]\n",
      "Predicted Label: [8.]\n",
      "Predicted Label: [8.]\n",
      "Predicted Label: [8.]\n",
      "Predicted Label: [8.]\n",
      "Predicted Label: [8.]\n",
      "Predicted Label: [8.]\n",
      "Predicted Label: [8.]\n",
      "========================\n",
      "Test Label: [5]\n",
      "All predictions: \n",
      "[array([5.]), array([5.]), array([8.]), array([8.]), array([8.]), array([8.]), array([8.]), array([8.]), array([8.])]\n",
      "Following digit to be recognized:\n"
     ]
    },
    {
     "data": {
      "image/png": "[encoded data removed]",
      "text/plain": [
       "<Figure size 432x288 with 1 Axes>"
      ]
     },
     "metadata": {
      "needs_background": "light"
     },
     "output_type": "display_data"
    },
    {
     "name": "stdout",
     "output_type": "stream",
     "text": [
      "Test Sample No: 6395\n",
      "Test sample: [8]\n",
      "Predicted Label: [8.]\n",
      "Predicted Label: [8.]\n",
      "Predicted Label: [8.]\n",
      "Predicted Label: [8.]\n",
      "Predicted Label: [8.]\n",
      "Predicted Label: [8.]\n",
      "Predicted Label: [8.]\n",
      "Predicted Label: [8.]\n",
      "Predicted Label: [8.]\n",
      "========================\n",
      "Test Label: [8]\n",
      "All predictions: \n",
      "[array([8.]), array([8.]), array([8.]), array([8.]), array([8.]), array([8.]), array([8.]), array([8.]), array([8.])]\n",
      "Following digit to be recognized:\n"
     ]
    },
    {
     "data": {
      "image/png": "[encoded data removed]",
      "text/plain": [
       "<Figure size 432x288 with 1 Axes>"
      ]
     },
     "metadata": {
      "needs_background": "light"
     },
     "output_type": "display_data"
    },
    {
     "name": "stdout",
     "output_type": "stream",
     "text": [
      "Test Sample No: 8395\n",
      "Test sample: [4]\n",
      "Predicted Label: [4.]\n",
      "Predicted Label: [4.]\n",
      "Predicted Label: [4.]\n",
      "Predicted Label: [4.]\n",
      "Predicted Label: [4.]\n",
      "Predicted Label: [4.]\n",
      "Predicted Label: [4.]\n",
      "Predicted Label: [4.]\n",
      "Predicted Label: [4.]\n",
      "========================\n",
      "Test Label: [4]\n",
      "All predictions: \n",
      "[array([4.]), array([4.]), array([4.]), array([4.]), array([4.]), array([4.]), array([4.]), array([4.]), array([4.])]\n",
      "Following digit to be recognized:\n"
     ]
    },
    {
     "data": {
      "image/png": "[encoded data removed]",
      "text/plain": [
       "<Figure size 432x288 with 1 Axes>"
      ]
     },
     "metadata": {
      "needs_background": "light"
     },
     "output_type": "display_data"
    },
    {
     "name": "stdout",
     "output_type": "stream",
     "text": [
      "Test Sample No: 2479\n",
      "Test sample: [0]\n",
      "Predicted Label: [0.]\n",
      "Predicted Label: [0.]\n",
      "Predicted Label: [0.]\n",
      "Predicted Label: [0.]\n",
      "Predicted Label: [0.]\n",
      "Predicted Label: [0.]\n",
      "Predicted Label: [0.]\n",
      "Predicted Label: [0.]\n",
      "Predicted Label: [0.]\n",
      "========================\n",
      "Test Label: [0]\n",
      "All predictions: \n",
      "[array([0.]), array([0.]), array([0.]), array([0.]), array([0.]), array([0.]), array([0.]), array([0.]), array([0.])]\n",
      "Following digit to be recognized:\n"
     ]
    },
    {
     "data": {
      "image/png": "[encoded data removed]",
      "text/plain": [
       "<Figure size 432x288 with 1 Axes>"
      ]
     },
     "metadata": {
      "needs_background": "light"
     },
     "output_type": "display_data"
    },
    {
     "name": "stdout",
     "output_type": "stream",
     "text": [
      "Test Sample No: 6507\n",
      "Test sample: [9]\n",
      "Predicted Label: [9.]\n",
      "Predicted Label: [9.]\n",
      "Predicted Label: [9.]\n",
      "Predicted Label: [9.]\n",
      "Predicted Label: [4.]\n",
      "Predicted Label: [9.]\n",
      "Predicted Label: [9.]\n",
      "Predicted Label: [9.]\n",
      "Predicted Label: [9.]\n",
      "========================\n",
      "Test Label: [9]\n",
      "All predictions: \n",
      "[array([9.]), array([9.]), array([9.]), array([9.]), array([4.]), array([9.]), array([9.]), array([9.]), array([9.])]\n",
      "Following digit to be recognized:\n"
     ]
    },
    {
     "data": {
      "image/png": "[encoded data removed]",
      "text/plain": [
       "<Figure size 432x288 with 1 Axes>"
      ]
     },
     "metadata": {
      "needs_background": "light"
     },
     "output_type": "display_data"
    },
    {
     "name": "stdout",
     "output_type": "stream",
     "text": [
      "Test Sample No: 4428\n",
      "Test sample: [1]\n",
      "Predicted Label: [1.]\n",
      "Predicted Label: [1.]\n",
      "Predicted Label: [8.]\n",
      "Predicted Label: [1.]\n",
      "Predicted Label: [1.]\n",
      "Predicted Label: [1.]\n",
      "Predicted Label: [1.]\n",
      "Predicted Label: [1.]\n",
      "Predicted Label: [1.]\n",
      "========================\n",
      "Test Label: [1]\n",
      "All predictions: \n",
      "[array([1.]), array([1.]), array([8.]), array([1.]), array([1.]), array([1.]), array([1.]), array([1.]), array([1.])]\n",
      "Following digit to be recognized:\n"
     ]
    },
    {
     "data": {
      "image/png": "[encoded data removed]",
      "text/plain": [
       "<Figure size 432x288 with 1 Axes>"
      ]
     },
     "metadata": {
      "needs_background": "light"
     },
     "output_type": "display_data"
    },
    {
     "name": "stdout",
     "output_type": "stream",
     "text": [
      "Test Sample No: 5334\n",
      "Test sample: [7]\n",
      "Predicted Label: [7.]\n",
      "Predicted Label: [7.]\n",
      "Predicted Label: [7.]\n",
      "Predicted Label: [7.]\n",
      "Predicted Label: [7.]\n",
      "Predicted Label: [7.]\n",
      "Predicted Label: [7.]\n",
      "Predicted Label: [7.]\n",
      "Predicted Label: [7.]\n",
      "========================\n",
      "Test Label: [7]\n",
      "All predictions: \n",
      "[array([7.]), array([7.]), array([7.]), array([7.]), array([7.]), array([7.]), array([7.]), array([7.]), array([7.])]\n"
     ]
    }
   ],
   "source": [
    "import random\n",
    "\n",
    "\n",
    "for i in range(0,10):\n",
    "    index=random.randint(0,10000)\n",
    "    #index=4509\n",
    "    print(\"Following digit to be recognized:\")\n",
    "    show_img(x_test_data_norm,index)\n",
    "    plt.show()\n",
    "    print(\"Test Sample No: \"+str(index))\n",
    "    print(\"Test sample: \"+str(x_test_label[index]))\n",
    "    pred_label = []\n",
    "    coreset_svm_acc = []\n",
    "    \n",
    "    for j in range(len(perc)):\n",
    "        pred = svm_coreset_model[j].predict([x_test_data_norm[index]])\n",
    "        print(\"Predicted Label: \"+str(pred))\n",
    "        pred_label.append(pred)\n",
    "        #print(\"Predicted Label with \"+str(perc[j])+\" ratio having accuracy \"+str(score_svm_coreset[j])+\" : \"+str(pred_label))\n",
    "    print(\"========================\")\n",
    "    print(\"Test Label: \"+str(x_test_label[index]))\n",
    "    print(\"All predictions: \")    \n",
    "    print(pred_label) "
   ]
  },
  {
   "cell_type": "code",
   "execution_count": null,
   "metadata": {},
   "outputs": [],
   "source": []
  }
 ],
 "metadata": {
  "kernelspec": {
   "display_name": "Python 3",
   "language": "python",
   "name": "python3"
  },
  "language_info": {
   "codemirror_mode": {
    "name": "ipython",
    "version": 3
   },
   "file_extension": ".py",
   "mimetype": "text/x-python",
   "name": "python",
   "nbconvert_exporter": "python",
   "pygments_lexer": "ipython3",
   "version": "3.7.4"
  }
 },
 "nbformat": 4,
 "nbformat_minor": 1
}
