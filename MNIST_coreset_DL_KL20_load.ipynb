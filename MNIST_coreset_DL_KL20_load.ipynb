{
 "cells": [
  {
   "cell_type": "code",
   "execution_count": 1,
   "metadata": {},
   "outputs": [
    {
     "name": "stdout",
     "output_type": "stream",
     "text": [
      "running build_ext\n",
      "gcc -pthread -B /root/anaconda3/envs/py2/compiler_compat -Wl,--sysroot=/ -fno-strict-aliasing -g -O2 -DNDEBUG -g -fwrapv -O3 -Wall -Wstrict-prototypes -fPIC -I/root/anaconda3/envs/py2/include/python2.7 -c /tmp/tmp24IrPa.cpp -o tmp/tmp24IrPa.o -std=c++14\n",
      "\u001b[01m\u001b[Kcc1plus:\u001b[m\u001b[K \u001b[01;35m\u001b[Kwarning: \u001b[m\u001b[Kcommand line option '\u001b[01m\u001b[K-Wstrict-prototypes\u001b[m\u001b[K' is valid for C/ObjC but not for C++\n",
      "gcc -pthread -B /root/anaconda3/envs/py2/compiler_compat -Wl,--sysroot=/ -fno-strict-aliasing -g -O2 -DNDEBUG -g -fwrapv -O3 -Wall -Wstrict-prototypes -fPIC -I/root/anaconda3/envs/py2/include/python2.7 -c /tmp/tmpexmnz4.cpp -o tmp/tmpexmnz4.o -fvisibility=hidden\n",
      "\u001b[01m\u001b[Kcc1plus:\u001b[m\u001b[K \u001b[01;35m\u001b[Kwarning: \u001b[m\u001b[Kcommand line option '\u001b[01m\u001b[K-Wstrict-prototypes\u001b[m\u001b[K' is valid for C/ObjC but not for C++\n",
      "building 'coresets.sensitivity' extension\n",
      "gcc -pthread -B /root/anaconda3/envs/py2/compiler_compat -Wl,--sysroot=/ -fno-strict-aliasing -g -O2 -DNDEBUG -g -fwrapv -O3 -Wall -Wstrict-prototypes -fPIC -I/root/anaconda3/envs/py2/include -I/root/anaconda3/envs/py2/include -I/root/anaconda3/envs/py2/include/python2.7 -c src/sensitivity.cpp -o build/temp.linux-x86_64-2.7/src/sensitivity.o -DVERSION_INFO=\"0.0.1\" -std=c++14 -fvisibility=hidden\n",
      "\u001b[01m\u001b[Kgcc:\u001b[m\u001b[K \u001b[01;31m\u001b[Kerror: \u001b[m\u001b[Ksrc/sensitivity.cpp: No such file or directory\n",
      "error: command 'gcc' failed with exit status 1\n"
     ]
    }
   ],
   "source": [
    "!python ../setup.py build_ext --inplace"
   ]
  },
  {
   "cell_type": "code",
   "execution_count": 2,
   "metadata": {},
   "outputs": [
    {
     "name": "stdout",
     "output_type": "stream",
     "text": [
      "Python 2.7.17 :: Anaconda, Inc.\r\n"
     ]
    }
   ],
   "source": [
    "!python --version"
   ]
  },
  {
   "cell_type": "code",
   "execution_count": 4,
   "metadata": {},
   "outputs": [],
   "source": [
    "%matplotlib inline\n",
    "import numpy as np\n",
    "import matplotlib.pyplot as plt\n",
    "import os\n",
    "import sys\n",
    "module_path = os.path.abspath(os.path.join('..'))\n",
    "if module_path not in sys.path:\n",
    "    sys.path.append(module_path)\n",
    "np.random.seed(42)\n",
    "#from utils import datagen, plotting\n",
    "#import coresets\n",
    "#import algorithms\n",
    "import csv\n",
    "import math\n",
    "from sklearn.cluster import KMeans\n",
    "from sklearn.preprocessing import normalize, scale\n",
    "from math import sqrt,log\n",
    "import pandas as pd\n",
    "import tensorflow as tf\n",
    "import timeit \n",
    "\n",
    "from sklearn.model_selection import train_test_split \n",
    "from sklearn.neighbors import KNeighborsClassifier \n",
    "#import xgboost as xgb\n",
    "from sklearn.metrics import accuracy_score,classification_report,f1_score\n",
    "from sklearn.tree import DecisionTreeClassifier\n",
    "from sklearn.metrics import confusion_matrix\n",
    "from sklearn.naive_bayes import GaussianNB \n",
    "from sklearn.svm import SVC \n",
    "from sklearn.tree import DecisionTreeClassifier\n",
    "\n",
    "# Importing the required Keras modules containing model and layers\n",
    "from tensorflow.python.keras.models import Sequential\n",
    "from tensorflow.python.keras.layers import Dense, Conv2D, Dropout, Flatten, MaxPooling2D"
   ]
  },
  {
   "cell_type": "code",
   "execution_count": 5,
   "metadata": {},
   "outputs": [],
   "source": [
    "##few func defintions\n",
    "#normalize pdf area to 1:\n",
    "def normaliz(array):\n",
    "    normalized = []\n",
    "    s=sum(array)\n",
    "    for i in range(len(array)):\n",
    "        n=array[i]/s\n",
    "        normalized.append(n)\n",
    "    return normalized\n",
    "#Calculate mean\n",
    "def mean(array):\n",
    "    return sum(array)/float(len(array))\n",
    " \n",
    "# Calculate the standard deviation of a list of numbers\n",
    "def stdev(numbers):\n",
    "    avg = mean(numbers)\n",
    "    variance = sum([(x-avg)**2 for x in numbers]) / float(len(numbers)-1)\n",
    "    return sqrt(variance)\n",
    "#kl divergence\n",
    "def kl(p, q):\n",
    "    p = np.asarray(p, dtype=np.float)\n",
    "    q = np.asarray(q, dtype=np.float)\n",
    "    c = 0\n",
    "    for i in range(len(p)):\n",
    "        if(p[i]!=0) and (q[i]!=0):\n",
    "        #if(p[i]!=0):\n",
    "            c=c+p[i]*log(p[i]/q[i])     \n",
    "    return c\n",
    "    #return np.sum(np.where(p != 0 , p * np.log(p / q), 0))\n",
    "    \n",
    "def dist(x,y):   \n",
    "    return sqrt(np.sum((x-y)**2))\n",
    "\n",
    "def cost(data,clusters):\n",
    "    k=len(clusters)\n",
    "    min_dist = []\n",
    "    for i in range(len(data)):\n",
    "        d = []\n",
    "        for j in range(k):\n",
    "            d.append(dist(data[i],clusters[j]))\n",
    "        min_dist.append(np.min(d))\n",
    "    cost = sum(min_dist)\n",
    "    return cost\n",
    "#kl divergence\n",
    "def kl(p, q):\n",
    "    p = np.asarray(p, dtype=np.float)\n",
    "    q = np.asarray(q, dtype=np.float)\n",
    "    c = 0\n",
    "    for i in range(len(p)):\n",
    "        if(p[i]!=0) and (q[i]!=0):\n",
    "        #if(p[i]!=0):\n",
    "            c=c+p[i]*log(p[i]/q[i])     \n",
    "    return c\n",
    "    #return np.sum(np.where(p != 0 , p * np.log(p / q), 0))\n",
    "    "
   ]
  },
  {
   "cell_type": "code",
   "execution_count": 6,
   "metadata": {},
   "outputs": [],
   "source": [
    "#window kernel\n",
    "def window_function(x_vec, unit_len=1):\n",
    "    for row in x_vec:\n",
    "        if np.abs(row) > (unit_len/2):\n",
    "            return 0\n",
    "    return 1\n",
    "\n",
    "def kernel_func(h, x, x_i):\n",
    "    assert (x.shape == x_i.shape), 'vectors x and x_i must have the same dimensions'\n",
    "    return (x - x_i) / h\n",
    "\n",
    "def window_func(x_vec, h):\n",
    "   \n",
    "    for row in x_vec:\n",
    "        if np.abs(row) > 0.5:\n",
    "            #print(row)\n",
    "            return 0\n",
    "    return 1\n",
    "    #dist=sqrt(np.sum((x_vec)**2))\n",
    "    #print(\"distance=\"+str(dist))\n",
    "    #if dist > 0.5:\n",
    "     #   return 0\n",
    "    #else: \n",
    "     #   return 1\n",
    "\n",
    "#main parzen window function\n",
    "def parzen_estimate(x_samples, point_x, h, d):\n",
    "    \n",
    "    k_n = 0\n",
    "    for row in x_samples:\n",
    "        x_i = kernel_func(h=h, x=point_x, x_i=row[:,np.newaxis])\n",
    "        #x_i = kernel_func(h=h, x=point_x, x_i=row)\n",
    "        k_n += window_func(x_i, h=h)\n",
    "        \n",
    "    #print(k_n)\n",
    "    temp1=float(k_n)/(h**d)\n",
    "    temp2=temp1/len(x_samples)\n",
    "    return temp2\n",
    "    #return (float(k_n) / len(x_samples)) / (h**d)\n",
    "    \n",
    "def covar(data):\n",
    "    mean_data=data.mean(axis=0)   \n",
    "    cov=np.zeros((len(mean_data),len(mean_data)))\n",
    "    for i in range(len(mean_data)):\n",
    "        for j in range(len(mean_data)):\n",
    "            for k in range(len(data)):\n",
    "                cov[i][j]=cov[i][j]+((data[k][i]-mean_data[i])*(data[k][j]-mean_data[j]))\n",
    "            cov[i][j]=cov[i][j]/(len(data)-1)\n",
    "    return cov  \n",
    "\n",
    "def show_img(data,idx):\n",
    "    data *= 255\n",
    "    im=np.reshape(data[idx],(28,28))\n",
    "    plt.imshow(im,cmap='Greys')"
   ]
  },
  {
   "cell_type": "code",
   "execution_count": 7,
   "metadata": {},
   "outputs": [],
   "source": [
    "#import MNIST train set\n",
    "#(x_train, y_train), (x_test, y_test) = tf.keras.datasets.mnist.load_data()\n",
    "x_train_df=pd.read_csv('mnist_train.csv', sep=',')\n",
    "\n",
    "#convert df to np\n",
    "x_train_temp_np=x_train_df.to_numpy()\n",
    "\n",
    "#dividing into labels and data \n",
    "x_train_data=x_train_temp_np[:, 1:785]\n",
    "x_train_label=x_train_temp_np[:,[0]]\n"
   ]
  },
  {
   "cell_type": "code",
   "execution_count": 8,
   "metadata": {},
   "outputs": [],
   "source": [
    "#import MNIST test set\n",
    "#(x_train, y_train), (x_test, y_test) = tf.keras.datasets.mnist.load_data()\n",
    "x_test_df=pd.read_csv('mnist_test.csv', sep=',')\n",
    "\n",
    "#convert df to np\n",
    "x_test_temp_np=x_test_df.to_numpy()\n",
    "\n",
    "#dividing into labels and data \n",
    "x_test_data=x_test_temp_np[:, 1:785]\n",
    "x_test_label=x_test_temp_np[:,[0]]\n",
    "\n"
   ]
  },
  {
   "cell_type": "code",
   "execution_count": 9,
   "metadata": {},
   "outputs": [
    {
     "name": "stdout",
     "output_type": "stream",
     "text": [
      "141\n"
     ]
    }
   ],
   "source": [
    "#normalizing both train and test data with max RGB value\n",
    "x_train_data_norm=x_train_data.astype('float')\n",
    "x_test_data_norm=x_test_data.astype('float')\n",
    "x_train_data_norm/=255\n",
    "x_test_data_norm/=255\n",
    "data_length=20000\n",
    "b=int(sqrt(data_length))\n",
    "print(b)"
   ]
  },
  {
   "cell_type": "code",
   "execution_count": 10,
   "metadata": {},
   "outputs": [
    {
     "data": {
      "image/png": "[encoded data removed]",
      "text/plain": [
       "<Figure size 432x288 with 1 Axes>"
      ]
     },
     "metadata": {
      "needs_background": "light"
     },
     "output_type": "display_data"
    },
    {
     "data": {
      "image/png": "[encoded data removed]",
      "text/plain": [
       "<Figure size 432x288 with 1 Axes>"
      ]
     },
     "metadata": {
      "needs_background": "light"
     },
     "output_type": "display_data"
    },
    {
     "data": {
      "image/png": "[encoded data removed]",
      "text/plain": [
       "<Figure size 432x288 with 1 Axes>"
      ]
     },
     "metadata": {
      "needs_background": "light"
     },
     "output_type": "display_data"
    }
   ],
   "source": [
    "df=pd.read_csv('MNIST_KL20.csv')#load 20K\n",
    "kl_load20=df.to_numpy()\n",
    "plt.plot(kl_load20)\n",
    "plt.show()\n",
    "df=pd.read_csv('MNIST_KL2040.csv')#load 20Kto40k\n",
    "kl_load2040=df.to_numpy()\n",
    "plt.plot(kl_load2040)\n",
    "plt.show()\n",
    "df=pd.read_csv('MNIST_KL4060.csv')#load 40Kto60k\n",
    "kl_load4060=df.to_numpy()\n",
    "plt.plot(kl_load4060)\n",
    "plt.show()\n",
    "\n"
   ]
  },
  {
   "cell_type": "code",
   "execution_count": 11,
   "metadata": {},
   "outputs": [
    {
     "name": "stdout",
     "output_type": "stream",
     "text": [
      "60000\n"
     ]
    },
    {
     "data": {
      "text/plain": [
       "(60000, 28, 28)"
      ]
     },
     "execution_count": 11,
     "metadata": {},
     "output_type": "execute_result"
    }
   ],
   "source": [
    "#convert training record to 2D for DL feeding\n",
    "\n",
    "x_train_data_2D = []\n",
    "print(len(x_train_data_norm[0:60000]))\n",
    "for i in range(len(x_train_data_norm[0:60000])):\n",
    "    #x_test_data_norm[i] *= 255\n",
    "    sqr_test=np.reshape(x_train_data_norm[i],(28,28))\n",
    "    x_train_data_2D.append(sqr_test)\n",
    "\n",
    "x_train_data_2D_np=np.array(x_train_data_2D)\n",
    "\n",
    "#preprocessing for Keras\n",
    "x_data_2D_train = x_train_data_2D_np.reshape(x_train_data_2D_np.shape[0], 28, 28, 1)\n",
    "x_train_data_2D_np.shape"
   ]
  },
  {
   "cell_type": "code",
   "execution_count": 12,
   "metadata": {},
   "outputs": [
    {
     "name": "stdout",
     "output_type": "stream",
     "text": [
      "10000\n"
     ]
    },
    {
     "data": {
      "text/plain": [
       "(10000, 28, 28)"
      ]
     },
     "execution_count": 12,
     "metadata": {},
     "output_type": "execute_result"
    }
   ],
   "source": [
    "#convert test record to 2D for DL feeding\n",
    "x_test_data_2D = []\n",
    "print(len(x_test_data_norm))\n",
    "for i in range(len(x_test_data_norm)):\n",
    "    #x_test_data_norm[i] *= 255\n",
    "    sqr_test=np.reshape(x_test_data_norm[i],(28,28))\n",
    "    x_test_data_2D.append(sqr_test)\n",
    "\n",
    "x_test_data_2D_np=np.array(x_test_data_2D)\n",
    "\n",
    "#preprocessing for Keras\n",
    "x_data_2D_test = x_test_data_2D_np.reshape(x_test_data_2D_np.shape[0], 28, 28, 1)\n",
    "x_test_data_2D_np.shape"
   ]
  },
  {
   "cell_type": "code",
   "execution_count": 16,
   "metadata": {
    "scrolled": true
   },
   "outputs": [
    {
     "name": "stdout",
     "output_type": "stream",
     "text": [
      "Epoch 1/10\n",
      "60000/60000 [==============================] - 12s 207us/sample - loss: 0.2009 - acc: 0.9397\n",
      "Epoch 2/10\n",
      "60000/60000 [==============================] - 15s 242us/sample - loss: 0.0826 - acc: 0.9754\n",
      "Epoch 3/10\n",
      "60000/60000 [==============================] - 16s 266us/sample - loss: 0.0598 - acc: 0.9812\n",
      "Epoch 4/10\n",
      "60000/60000 [==============================] - 17s 276us/sample - loss: 0.0471 - acc: 0.9846\n",
      "Epoch 5/10\n",
      "60000/60000 [==============================] - 18s 292us/sample - loss: 0.0355 - acc: 0.9887\n",
      "Epoch 6/10\n",
      "60000/60000 [==============================] - 18s 300us/sample - loss: 0.0331 - acc: 0.9891\n",
      "Epoch 7/10\n",
      "60000/60000 [==============================] - 18s 303us/sample - loss: 0.0270 - acc: 0.9909\n",
      "Epoch 8/10\n",
      "60000/60000 [==============================] - 18s 297us/sample - loss: 0.0231 - acc: 0.9923\n",
      "Epoch 9/10\n",
      "60000/60000 [==============================] - 18s 299us/sample - loss: 0.0222 - acc: 0.9922\n",
      "Epoch 10/10\n",
      "60000/60000 [==============================] - 17s 281us/sample - loss: 0.0204 - acc: 0.9931\n"
     ]
    },
    {
     "data": {
      "text/plain": [
       "<tensorflow.python.keras.callbacks.History at 0x16045cf7148>"
      ]
     },
     "execution_count": 16,
     "metadata": {},
     "output_type": "execute_result"
    }
   ],
   "source": [
    "#CNN on full set\n",
    "\n",
    "# Creating a Sequential Model and adding the layers\n",
    "input_shape = (28, 28, 1)\n",
    "fullset_model = Sequential()\n",
    "fullset_model.add(Conv2D(28, kernel_size=(4,4), input_shape=input_shape))\n",
    "fullset_model.add(MaxPooling2D(pool_size=(2, 2)))\n",
    "fullset_model.add(Flatten()) # Flattening the 2D arrays for fully connected layers\n",
    "fullset_model.add(Dense(128, activation=tf.nn.relu))\n",
    "fullset_model.add(Dropout(0.2))\n",
    "fullset_model.add(Dense(10,activation=tf.nn.softmax))\n",
    "\n",
    "fullset_model.compile(optimizer='adam', loss='sparse_categorical_crossentropy', metrics=['accuracy'])\n",
    "fullset_model.fit(x=x_data_2D_train,y=x_train_label[0:60000], epochs=10)"
   ]
  },
  {
   "cell_type": "code",
   "execution_count": 17,
   "metadata": {},
   "outputs": [
    {
     "name": "stdout",
     "output_type": "stream",
     "text": [
      "10000/10000 [==============================] - 1s 82us/sample - loss: 0.0661 - acc: 0.9851\n"
     ]
    },
    {
     "data": {
      "text/plain": [
       "[0.0660994412937986, 0.9851]"
      ]
     },
     "execution_count": 17,
     "metadata": {},
     "output_type": "execute_result"
    }
   ],
   "source": [
    "fullset_model.evaluate(x_data_2D_test,x_test_label)"
   ]
  },
  {
   "cell_type": "code",
   "execution_count": 18,
   "metadata": {},
   "outputs": [
    {
     "name": "stdout",
     "output_type": "stream",
     "text": [
      "[3.28999033e-10 4.79440155e-10 6.26730418e-10 ... 8.47246133e-05\n",
      " 8.46396184e-05 8.46192863e-05]\n"
     ]
    }
   ],
   "source": [
    "#coreset procedure begins\n",
    "#appending the KL records\n",
    "temp=np.vstack((kl_load20,kl_load2040))\n",
    "kl_load_full=np.vstack((temp,kl_load4060))\n",
    "#append label and KL weight and sort\n",
    "x_data_label_merge=np.column_stack((x_train_data_norm[0:60000],x_train_label[0:60000]))\n",
    "x_data_label_kl_merge=np.column_stack((x_data_label_merge,kl_load_full))\n",
    "print(x_data_label_kl_merge[:,785])\n",
    "x_data_label_kl_merge_sort=x_data_label_kl_merge[x_data_label_kl_merge[:,785].argsort()]"
   ]
  },
  {
   "cell_type": "code",
   "execution_count": 14,
   "metadata": {},
   "outputs": [
    {
     "name": "stdout",
     "output_type": "stream",
     "text": [
      "Following digit to be recognized:\n"
     ]
    },
    {
     "data": {
      "image/png": "[encoded data removed]",
      "text/plain": [
       "<Figure size 432x288 with 1 Axes>"
      ]
     },
     "metadata": {
      "needs_background": "light"
     },
     "output_type": "display_data"
    }
   ],
   "source": [
    "index = 1003\n",
    "print(\"Following digit to be recognized:\")\n",
    "show_img(x_test_data_norm,index)"
   ]
  },
  {
   "cell_type": "code",
   "execution_count": 15,
   "metadata": {},
   "outputs": [
    {
     "name": "stdout",
     "output_type": "stream",
     "text": [
      "Begin test: \n",
      "Size of Coreset: 6000\n",
      "WARNING:tensorflow:From C:\\Users\\shounakr\\AppData\\Local\\Continuum\\anaconda3\\lib\\site-packages\\tensorflow\\python\\ops\\init_ops.py:1251: calling VarianceScaling.__init__ (from tensorflow.python.ops.init_ops) with dtype is deprecated and will be removed in a future version.\n",
      "Instructions for updating:\n",
      "Call initializer instance with the dtype argument instead of passing it to the constructor\n",
      "Epoch 1/10\n",
      "6000/6000 [==============================] - 1s 202us/sample - loss: 0.4885 - acc: 0.8545\n",
      "Epoch 2/10\n",
      "6000/6000 [==============================] - 1s 193us/sample - loss: 0.2154 - acc: 0.9348\n",
      "Epoch 3/10\n",
      "6000/6000 [==============================] - 1s 200us/sample - loss: 0.1512 - acc: 0.9542\n",
      "Epoch 4/10\n",
      "6000/6000 [==============================] - 1s 197us/sample - loss: 0.0987 - acc: 0.9687\n",
      "Epoch 5/10\n",
      "6000/6000 [==============================] - 1s 192us/sample - loss: 0.0755 - acc: 0.9772\n",
      "Epoch 6/10\n",
      "6000/6000 [==============================] - 1s 192us/sample - loss: 0.0579 - acc: 0.9817\n",
      "Epoch 7/10\n",
      "6000/6000 [==============================] - 1s 194us/sample - loss: 0.0428 - acc: 0.9863\n",
      "Epoch 8/10\n",
      "6000/6000 [==============================] - 1s 195us/sample - loss: 0.0368 - acc: 0.9882\n",
      "Epoch 9/10\n",
      "6000/6000 [==============================] - 1s 236us/sample - loss: 0.0305 - acc: 0.9900\n",
      "Epoch 10/10\n",
      "6000/6000 [==============================] - 1s 248us/sample - loss: 0.0314 - acc: 0.9898\n",
      "10000/10000 [==============================] - 1s 96us/sample - loss: 0.1624 - acc: 0.9551\n",
      "\n",
      "Accuracy=0.9551\n",
      "Test Label: [5]\n",
      "Predicted Label: 5\n",
      "Size of Coreset: 12000\n",
      "Epoch 1/10\n",
      "12000/12000 [==============================] - 3s 278us/sample - loss: 0.3846 - acc: 0.8840\n",
      "Epoch 2/10\n",
      "12000/12000 [==============================] - 3s 291us/sample - loss: 0.1603 - acc: 0.9515\n",
      "Epoch 3/10\n",
      "12000/12000 [==============================] - 4s 337us/sample - loss: 0.1062 - acc: 0.9666\n",
      "Epoch 4/10\n",
      "12000/12000 [==============================] - 3s 287us/sample - loss: 0.0770 - acc: 0.9762\n",
      "Epoch 5/10\n",
      "12000/12000 [==============================] - 3s 270us/sample - loss: 0.0601 - acc: 0.9825\n",
      "Epoch 6/10\n",
      "12000/12000 [==============================] - 4s 292us/sample - loss: 0.0451 - acc: 0.9849\n",
      "Epoch 7/10\n",
      "12000/12000 [==============================] - 3s 287us/sample - loss: 0.0324 - acc: 0.9898\n",
      "Epoch 8/10\n",
      "12000/12000 [==============================] - 4s 353us/sample - loss: 0.0297 - acc: 0.9903\n",
      "Epoch 9/10\n",
      "12000/12000 [==============================] - 4s 330us/sample - loss: 0.0301 - acc: 0.9902s - loss: 0.0301 - acc: 0.990\n",
      "Epoch 10/10\n",
      "12000/12000 [==============================] - 5s 403us/sample - loss: 0.0243 - acc: 0.9920\n",
      "10000/10000 [==============================] - 1s 126us/sample - loss: 0.0998 - acc: 0.9740\n",
      "\n",
      "Accuracy=0.974\n",
      "Test Label: [5]\n",
      "Predicted Label: 5\n",
      "Size of Coreset: 18000\n",
      "Epoch 1/10\n",
      "18000/18000 [==============================] - 6s 310us/sample - loss: 0.3306 - acc: 0.9004\n",
      "Epoch 2/10\n",
      "18000/18000 [==============================] - 6s 323us/sample - loss: 0.1241 - acc: 0.9616\n",
      "Epoch 3/10\n",
      "18000/18000 [==============================] - 6s 307us/sample - loss: 0.0818 - acc: 0.9736\n",
      "Epoch 4/10\n",
      "18000/18000 [==============================] - 5s 298us/sample - loss: 0.0570 - acc: 0.9817\n",
      "Epoch 5/10\n",
      "18000/18000 [==============================] - 5s 300us/sample - loss: 0.0410 - acc: 0.9862s - lo\n",
      "Epoch 6/10\n",
      "18000/18000 [==============================] - 6s 328us/sample - loss: 0.0397 - acc: 0.9872\n",
      "Epoch 7/10\n",
      "18000/18000 [==============================] - 6s 334us/sample - loss: 0.0285 - acc: 0.9914\n",
      "Epoch 8/10\n",
      "18000/18000 [==============================] - 5s 293us/sample - loss: 0.0260 - acc: 0.9918\n",
      "Epoch 9/10\n",
      "18000/18000 [==============================] - 6s 335us/sample - loss: 0.0246 - acc: 0.9916\n",
      "Epoch 10/10\n",
      "18000/18000 [==============================] - 5s 296us/sample - loss: 0.0216 - acc: 0.9921\n",
      "10000/10000 [==============================] - 1s 106us/sample - loss: 0.1020 - acc: 0.9755\n",
      "\n",
      "Accuracy=0.9755\n",
      "Test Label: [5]\n",
      "Predicted Label: 5\n",
      "Size of Coreset: 24000\n",
      "Epoch 1/10\n",
      "24000/24000 [==============================] - 7s 275us/sample - loss: 0.2979 - acc: 0.9122\n",
      "Epoch 2/10\n",
      "24000/24000 [==============================] - 7s 274us/sample - loss: 0.1106 - acc: 0.9675\n",
      "Epoch 3/10\n",
      "24000/24000 [==============================] - 7s 280us/sample - loss: 0.0744 - acc: 0.9764\n",
      "Epoch 4/10\n",
      "24000/24000 [==============================] - 7s 304us/sample - loss: 0.0532 - acc: 0.9827\n",
      "Epoch 5/10\n",
      "24000/24000 [==============================] - 7s 293us/sample - loss: 0.0409 - acc: 0.9872\n",
      "Epoch 6/10\n",
      "24000/24000 [==============================] - 8s 318us/sample - loss: 0.0343 - acc: 0.9888\n",
      "Epoch 7/10\n",
      "24000/24000 [==============================] - 7s 290us/sample - loss: 0.0291 - acc: 0.9900\n",
      "Epoch 8/10\n",
      "24000/24000 [==============================] - 7s 290us/sample - loss: 0.0227 - acc: 0.9917\n",
      "Epoch 9/10\n",
      "24000/24000 [==============================] - 7s 309us/sample - loss: 0.0224 - acc: 0.9920\n",
      "Epoch 10/10\n",
      "24000/24000 [==============================] - 8s 317us/sample - loss: 0.0228 - acc: 0.9917\n",
      "10000/10000 [==============================] - 1s 112us/sample - loss: 0.0748 - acc: 0.9797\n",
      "\n",
      "Accuracy=0.9797\n",
      "Test Label: [5]\n",
      "Predicted Label: 5\n",
      "Size of Coreset: 30000\n",
      "Epoch 1/10\n",
      "30000/30000 [==============================] - 9s 309us/sample - loss: 0.2609 - acc: 0.9227\n",
      "Epoch 2/10\n",
      "30000/30000 [==============================] - 9s 305us/sample - loss: 0.1037 - acc: 0.9675\n",
      "Epoch 3/10\n",
      "30000/30000 [==============================] - 10s 345us/sample - loss: 0.0708 - acc: 0.9772\n",
      "Epoch 4/10\n",
      "30000/30000 [==============================] - 9s 316us/sample - loss: 0.0544 - acc: 0.9818\n",
      "Epoch 5/10\n",
      "30000/30000 [==============================] - 9s 314us/sample - loss: 0.0418 - acc: 0.9868\n",
      "Epoch 6/10\n",
      "30000/30000 [==============================] - 10s 331us/sample - loss: 0.0342 - acc: 0.9890\n",
      "Epoch 7/10\n",
      "30000/30000 [==============================] - 10s 317us/sample - loss: 0.0291 - acc: 0.9901\n",
      "Epoch 8/10\n",
      "30000/30000 [==============================] - 10s 318us/sample - loss: 0.0264 - acc: 0.9913\n",
      "Epoch 9/10\n",
      "30000/30000 [==============================] - 10s 338us/sample - loss: 0.0217 - acc: 0.9926\n",
      "Epoch 10/10\n",
      "30000/30000 [==============================] - 10s 324us/sample - loss: 0.0211 - acc: 0.9928\n",
      "10000/10000 [==============================] - 1s 119us/sample - loss: 0.0773 - acc: 0.9815\n",
      "\n",
      "Accuracy=0.9815\n",
      "Test Label: [5]\n",
      "Predicted Label: 5\n",
      "Size of Coreset: 36000\n",
      "Epoch 1/10\n",
      "36000/36000 [==============================] - 11s 310us/sample - loss: 0.2291 - acc: 0.9312\n",
      "Epoch 2/10\n",
      "36000/36000 [==============================] - 11s 305us/sample - loss: 0.0910 - acc: 0.9715\n",
      "Epoch 3/10\n",
      "36000/36000 [==============================] - 11s 300us/sample - loss: 0.0620 - acc: 0.9806\n",
      "Epoch 4/10\n",
      "36000/36000 [==============================] - 11s 299us/sample - loss: 0.0466 - acc: 0.9848\n",
      "Epoch 5/10\n",
      "36000/36000 [==============================] - 11s 300us/sample - loss: 0.0402 - acc: 0.9859\n",
      "Epoch 6/10\n",
      "36000/36000 [==============================] - 10s 288us/sample - loss: 0.0325 - acc: 0.9887\n",
      "Epoch 7/10\n",
      "36000/36000 [==============================] - 10s 284us/sample - loss: 0.0259 - acc: 0.9911\n",
      "Epoch 8/10\n",
      "36000/36000 [==============================] - 10s 281us/sample - loss: 0.0217 - acc: 0.9926\n",
      "Epoch 9/10\n",
      "36000/36000 [==============================] - 11s 293us/sample - loss: 0.0225 - acc: 0.9925\n",
      "Epoch 10/10\n",
      "36000/36000 [==============================] - 11s 295us/sample - loss: 0.0212 - acc: 0.9932\n",
      "10000/10000 [==============================] - 1s 118us/sample - loss: 0.0875 - acc: 0.9777\n",
      "\n",
      "Accuracy=0.9777\n",
      "Test Label: [5]\n",
      "Predicted Label: 5\n",
      "Size of Coreset: 42000\n",
      "Epoch 1/10\n",
      "42000/42000 [==============================] - 13s 307us/sample - loss: 0.2455 - acc: 0.9271\n",
      "Epoch 2/10\n",
      "42000/42000 [==============================] - 13s 304us/sample - loss: 0.0944 - acc: 0.9710 - loss: 0.0950 - ac - ETA: 0s - loss: 0.0952 -\n",
      "Epoch 3/10\n",
      "42000/42000 [==============================] - 13s 300us/sample - loss: 0.0645 - acc: 0.9800\n",
      "Epoch 4/10\n",
      "42000/42000 [==============================] - 13s 300us/sample - loss: 0.0503 - acc: 0.9839\n",
      "Epoch 5/10\n"
     ]
    },
    {
     "name": "stdout",
     "output_type": "stream",
     "text": [
      "42000/42000 [==============================] - 12s 289us/sample - loss: 0.0398 - acc: 0.9869\n",
      "Epoch 6/10\n",
      "42000/42000 [==============================] - 11s 268us/sample - loss: 0.0335 - acc: 0.9883\n",
      "Epoch 7/10\n",
      "42000/42000 [==============================] - 11s 270us/sample - loss: 0.0269 - acc: 0.9908\n",
      "Epoch 8/10\n",
      "42000/42000 [==============================] - 11s 270us/sample - loss: 0.0263 - acc: 0.9916\n",
      "Epoch 9/10\n",
      "42000/42000 [==============================] - 14s 329us/sample - loss: 0.0235 - acc: 0.9922\n",
      "Epoch 10/10\n",
      "42000/42000 [==============================] - 12s 295us/sample - loss: 0.0199 - acc: 0.9932\n",
      "10000/10000 [==============================] - 1s 112us/sample - loss: 0.0701 - acc: 0.9825\n",
      "\n",
      "Accuracy=0.9825\n",
      "Test Label: [5]\n",
      "Predicted Label: 5\n",
      "Size of Coreset: 48000\n",
      "Epoch 1/10\n",
      "48000/48000 [==============================] - 14s 297us/sample - loss: 0.2156 - acc: 0.9355\n",
      "Epoch 2/10\n",
      "48000/48000 [==============================] - 14s 300us/sample - loss: 0.0852 - acc: 0.9746\n",
      "Epoch 3/10\n",
      "48000/48000 [==============================] - 14s 297us/sample - loss: 0.0591 - acc: 0.9815\n",
      "Epoch 4/10\n",
      "48000/48000 [==============================] - 14s 297us/sample - loss: 0.0453 - acc: 0.9857\n",
      "Epoch 5/10\n",
      "48000/48000 [==============================] - 13s 276us/sample - loss: 0.0371 - acc: 0.9876\n",
      "Epoch 6/10\n",
      "48000/48000 [==============================] - 14s 282us/sample - loss: 0.0308 - acc: 0.9902\n",
      "Epoch 7/10\n",
      "48000/48000 [==============================] - 14s 282us/sample - loss: 0.0277 - acc: 0.9908\n",
      "Epoch 8/10\n",
      "48000/48000 [==============================] - 14s 295us/sample - loss: 0.0233 - acc: 0.9919\n",
      "Epoch 9/10\n",
      "48000/48000 [==============================] - 15s 303us/sample - loss: 0.0211 - acc: 0.9929\n",
      "Epoch 10/10\n",
      "48000/48000 [==============================] - 15s 306us/sample - loss: 0.0210 - acc: 0.9934\n",
      "10000/10000 [==============================] - 1s 117us/sample - loss: 0.0630 - acc: 0.9836\n",
      "\n",
      "Accuracy=0.9836\n",
      "Test Label: [5]\n",
      "Predicted Label: 5\n",
      "Size of Coreset: 54000\n",
      "Epoch 1/10\n",
      "54000/54000 [==============================] - 17s 309us/sample - loss: 0.2034 - acc: 0.9398\n",
      "Epoch 2/10\n",
      "54000/54000 [==============================] - 16s 299us/sample - loss: 0.0829 - acc: 0.9741\n",
      "Epoch 3/10\n",
      "54000/54000 [==============================] - 15s 279us/sample - loss: 0.0587 - acc: 0.9823\n",
      "Epoch 4/10\n",
      "54000/54000 [==============================] - 15s 283us/sample - loss: 0.0441 - acc: 0.9864\n",
      "Epoch 5/10\n",
      "54000/54000 [==============================] - 16s 293us/sample - loss: 0.0368 - acc: 0.9874\n",
      "Epoch 6/10\n",
      "54000/54000 [==============================] - 17s 308us/sample - loss: 0.0308 - acc: 0.9903 - los\n",
      "Epoch 7/10\n",
      "54000/54000 [==============================] - 16s 303us/sample - loss: 0.0281 - acc: 0.9907\n",
      "Epoch 8/10\n",
      "54000/54000 [==============================] - 17s 307us/sample - loss: 0.0249 - acc: 0.9914\n",
      "Epoch 9/10\n",
      "54000/54000 [==============================] - 17s 312us/sample - loss: 0.0217 - acc: 0.9930\n",
      "Epoch 10/10\n",
      "54000/54000 [==============================] - 16s 300us/sample - loss: 0.0203 - acc: 0.9931\n",
      "10000/10000 [==============================] - 1s 106us/sample - loss: 0.0532 - acc: 0.9859\n",
      "\n",
      "Accuracy=0.9859\n",
      "Test Label: [5]\n",
      "Predicted Label: 5\n",
      "========================\n",
      "All predictions: \n",
      "[5, 5, 5, 5, 5, 5, 5, 5, 5]\n"
     ]
    }
   ],
   "source": [
    "#storing separate models for each percentage(models are indexed with loop counter)\n",
    "\n",
    "perc=[0.1,0.2,0.3,0.4,0.5,0.6,0.7,0.8,0.9]\n",
    "#perc=[0.4]\n",
    "coreset_accuracy=[]\n",
    "label_prediction = []\n",
    "coreset_model = [0]*len(perc)\n",
    "\n",
    "print(\"Begin test: \")\n",
    "for j in range(len(perc)):\n",
    "    \n",
    "    coreset_size=int(perc[j]*len(kl_load_full))\n",
    "    coreset_data_label=x_data_label_kl_merge_sort[(60000-coreset_size):60000]\n",
    "    coreset_data=coreset_data_label[:, 0:784]\n",
    "    coreset_label=coreset_data_label[:,[784]]\n",
    "    print(\"Size of Coreset: \" +str(len(coreset_data)))\n",
    "    \n",
    "    #format conversion\n",
    "    #convert coreset record to 2D for DL feeding\n",
    "    coreset_data_2D=[]\n",
    "    for k in range(len(coreset_data)):\n",
    "        #coreset_data[k] *= 255\n",
    "        sqr=np.reshape(coreset_data[k],(28,28))\n",
    "        coreset_data_2D.append(sqr)\n",
    "\n",
    "    coreset_data_2D_np=np.array(coreset_data_2D)\n",
    "    coreset_data_2D_np.shape\n",
    "    \n",
    "    #preprocessing for Keras\n",
    "    coreset_data_2D_train = coreset_data_2D_np.reshape(coreset_data_2D_np.shape[0], 28, 28, 1)\n",
    "    \n",
    "    #model initialization\n",
    "    # Creating a Sequential Model and adding the layers\n",
    "    input_shape = (28, 28, 1)\n",
    "    coreset_model[j] = Sequential()\n",
    "    coreset_model[j].add(Conv2D(28, kernel_size=(4,4), input_shape=input_shape))\n",
    "    coreset_model[j].add(MaxPooling2D(pool_size=(2, 2)))\n",
    "    coreset_model[j].add(Flatten()) # Flattening the 2D arrays for fully connected layers\n",
    "    coreset_model[j].add(Dense(128, activation=tf.nn.relu))\n",
    "    coreset_model[j].add(Dropout(0.2))\n",
    "    coreset_model[j].add(Dense(10,activation=tf.nn.softmax))\n",
    "    \n",
    "    #model training\n",
    "    coreset_model[j].compile(optimizer='adam', loss='sparse_categorical_crossentropy', metrics=['accuracy'])\n",
    "    coreset_model[j].fit(x=coreset_data_2D_train,y=coreset_label, epochs=10)\n",
    "    \n",
    "    #model evaluation\n",
    "    cset_acc=coreset_model[j].evaluate(x_data_2D_test,x_test_label)[1]\n",
    "    print(\"\\nAccuracy=\"+str(cset_acc))\n",
    "    coreset_accuracy.append(cset_acc)\n",
    "    \n",
    "    #testing with a test image\n",
    "    pred = coreset_model[j].predict(x_data_2D_test[index].reshape(1, 28, 28, 1))\n",
    "    label_prediction.append(pred.argmax())\n",
    "    print(\"Test Label: \"+str(x_test_label[index]))\n",
    "    print(\"Predicted Label: \"+str(pred.argmax()))\n",
    "print(\"========================\")\n",
    "print(\"All predictions: \")    \n",
    "print(label_prediction)    "
   ]
  },
  {
   "cell_type": "code",
   "execution_count": 20,
   "metadata": {},
   "outputs": [
    {
     "data": {
      "image/png": "[encoded data removed]",
      "text/plain": [
       "<Figure size 432x288 with 1 Axes>"
      ]
     },
     "metadata": {
      "needs_background": "light"
     },
     "output_type": "display_data"
    }
   ],
   "source": [
    "plt.grid(True)\n",
    "plt.xlabel('Coreset size = Percentage of full set')\n",
    "plt.ylabel('CNN_accuracy')\n",
    "plt.title('CNN accuracy at increasing coreset size')\n",
    "plt.plot(perc,coreset_accuracy)\n",
    "plt.savefig(\"Cnn_acc.png\")"
   ]
  },
  {
   "cell_type": "code",
   "execution_count": 21,
   "metadata": {},
   "outputs": [
    {
     "data": {
      "text/plain": [
       "[0.9551, 0.974, 0.9755, 0.9797, 0.9815, 0.9777, 0.9825, 0.9836, 0.9859]"
      ]
     },
     "execution_count": 21,
     "metadata": {},
     "output_type": "execute_result"
    }
   ],
   "source": [
    "coreset_accuracy"
   ]
  },
  {
   "cell_type": "code",
   "execution_count": 22,
   "metadata": {},
   "outputs": [
    {
     "name": "stdout",
     "output_type": "stream",
     "text": [
      "Following digit to be recognized:\n"
     ]
    },
    {
     "data": {
      "image/png": "[encoded data removed]",
      "text/plain": [
       "<Figure size 432x288 with 1 Axes>"
      ]
     },
     "metadata": {
      "needs_background": "light"
     },
     "output_type": "display_data"
    },
    {
     "name": "stdout",
     "output_type": "stream",
     "text": [
      "Test Sample No: 7762\n",
      "Predicted Label with 0.1 ratio having accuracy 0.9551 : 2\n",
      "Predicted Label with 0.2 ratio having accuracy 0.974 : 2\n",
      "Predicted Label with 0.3 ratio having accuracy 0.9755 : 2\n",
      "Predicted Label with 0.4 ratio having accuracy 0.9797 : 2\n",
      "Predicted Label with 0.5 ratio having accuracy 0.9815 : 2\n",
      "Predicted Label with 0.6 ratio having accuracy 0.9777 : 2\n",
      "Predicted Label with 0.7 ratio having accuracy 0.9825 : 2\n",
      "Predicted Label with 0.8 ratio having accuracy 0.9836 : 2\n",
      "Predicted Label with 0.9 ratio having accuracy 0.9859 : 2\n",
      "========================\n",
      "Test Label: [2]\n",
      "All predictions: \n",
      "[2, 2, 2, 2, 2, 2, 2, 2, 2]\n",
      "Following digit to be recognized:\n"
     ]
    },
    {
     "data": {
      "image/png": "[encoded data removed]",
      "text/plain": [
       "<Figure size 432x288 with 1 Axes>"
      ]
     },
     "metadata": {
      "needs_background": "light"
     },
     "output_type": "display_data"
    },
    {
     "name": "stdout",
     "output_type": "stream",
     "text": [
      "Test Sample No: 4465\n",
      "Predicted Label with 0.1 ratio having accuracy 0.9551 : 4\n",
      "Predicted Label with 0.2 ratio having accuracy 0.974 : 4\n",
      "Predicted Label with 0.3 ratio having accuracy 0.9755 : 4\n",
      "Predicted Label with 0.4 ratio having accuracy 0.9797 : 4\n",
      "Predicted Label with 0.5 ratio having accuracy 0.9815 : 4\n",
      "Predicted Label with 0.6 ratio having accuracy 0.9777 : 4\n",
      "Predicted Label with 0.7 ratio having accuracy 0.9825 : 4\n",
      "Predicted Label with 0.8 ratio having accuracy 0.9836 : 4\n",
      "Predicted Label with 0.9 ratio having accuracy 0.9859 : 4\n",
      "========================\n",
      "Test Label: [4]\n",
      "All predictions: \n",
      "[4, 4, 4, 4, 4, 4, 4, 4, 4]\n",
      "Following digit to be recognized:\n"
     ]
    },
    {
     "data": {
      "image/png": "[encoded data removed]",
      "text/plain": [
       "<Figure size 432x288 with 1 Axes>"
      ]
     },
     "metadata": {
      "needs_background": "light"
     },
     "output_type": "display_data"
    },
    {
     "name": "stdout",
     "output_type": "stream",
     "text": [
      "Test Sample No: 1930\n",
      "Predicted Label with 0.1 ratio having accuracy 0.9551 : 2\n",
      "Predicted Label with 0.2 ratio having accuracy 0.974 : 2\n",
      "Predicted Label with 0.3 ratio having accuracy 0.9755 : 2\n",
      "Predicted Label with 0.4 ratio having accuracy 0.9797 : 4\n",
      "Predicted Label with 0.5 ratio having accuracy 0.9815 : 2\n",
      "Predicted Label with 0.6 ratio having accuracy 0.9777 : 2\n",
      "Predicted Label with 0.7 ratio having accuracy 0.9825 : 2\n",
      "Predicted Label with 0.8 ratio having accuracy 0.9836 : 2\n",
      "Predicted Label with 0.9 ratio having accuracy 0.9859 : 2\n",
      "========================\n",
      "Test Label: [2]\n",
      "All predictions: \n",
      "[2, 2, 2, 4, 2, 2, 2, 2, 2]\n",
      "Following digit to be recognized:\n"
     ]
    },
    {
     "data": {
      "image/png": "[encoded data removed]",
      "text/plain": [
       "<Figure size 432x288 with 1 Axes>"
      ]
     },
     "metadata": {
      "needs_background": "light"
     },
     "output_type": "display_data"
    },
    {
     "name": "stdout",
     "output_type": "stream",
     "text": [
      "Test Sample No: 142\n",
      "Predicted Label with 0.1 ratio having accuracy 0.9551 : 3\n",
      "Predicted Label with 0.2 ratio having accuracy 0.974 : 3\n",
      "Predicted Label with 0.3 ratio having accuracy 0.9755 : 3\n",
      "Predicted Label with 0.4 ratio having accuracy 0.9797 : 3\n",
      "Predicted Label with 0.5 ratio having accuracy 0.9815 : 3\n",
      "Predicted Label with 0.6 ratio having accuracy 0.9777 : 3\n",
      "Predicted Label with 0.7 ratio having accuracy 0.9825 : 3\n",
      "Predicted Label with 0.8 ratio having accuracy 0.9836 : 3\n",
      "Predicted Label with 0.9 ratio having accuracy 0.9859 : 3\n",
      "========================\n",
      "Test Label: [3]\n",
      "All predictions: \n",
      "[3, 3, 3, 3, 3, 3, 3, 3, 3]\n",
      "Following digit to be recognized:\n"
     ]
    },
    {
     "data": {
      "image/png": "[encoded data removed]",
      "text/plain": [
       "<Figure size 432x288 with 1 Axes>"
      ]
     },
     "metadata": {
      "needs_background": "light"
     },
     "output_type": "display_data"
    },
    {
     "name": "stdout",
     "output_type": "stream",
     "text": [
      "Test Sample No: 4771\n",
      "Predicted Label with 0.1 ratio having accuracy 0.9551 : 5\n",
      "Predicted Label with 0.2 ratio having accuracy 0.974 : 5\n",
      "Predicted Label with 0.3 ratio having accuracy 0.9755 : 5\n",
      "Predicted Label with 0.4 ratio having accuracy 0.9797 : 5\n",
      "Predicted Label with 0.5 ratio having accuracy 0.9815 : 5\n",
      "Predicted Label with 0.6 ratio having accuracy 0.9777 : 5\n",
      "Predicted Label with 0.7 ratio having accuracy 0.9825 : 5\n",
      "Predicted Label with 0.8 ratio having accuracy 0.9836 : 5\n",
      "Predicted Label with 0.9 ratio having accuracy 0.9859 : 5\n",
      "========================\n",
      "Test Label: [5]\n",
      "All predictions: \n",
      "[5, 5, 5, 5, 5, 5, 5, 5, 5]\n",
      "Following digit to be recognized:\n"
     ]
    },
    {
     "data": {
      "image/png": "[encoded data removed]",
      "text/plain": [
       "<Figure size 432x288 with 1 Axes>"
      ]
     },
     "metadata": {
      "needs_background": "light"
     },
     "output_type": "display_data"
    },
    {
     "name": "stdout",
     "output_type": "stream",
     "text": [
      "Test Sample No: 4474\n",
      "Predicted Label with 0.1 ratio having accuracy 0.9551 : 7\n",
      "Predicted Label with 0.2 ratio having accuracy 0.974 : 7\n",
      "Predicted Label with 0.3 ratio having accuracy 0.9755 : 7\n",
      "Predicted Label with 0.4 ratio having accuracy 0.9797 : 7\n",
      "Predicted Label with 0.5 ratio having accuracy 0.9815 : 7\n",
      "Predicted Label with 0.6 ratio having accuracy 0.9777 : 7\n",
      "Predicted Label with 0.7 ratio having accuracy 0.9825 : 7\n",
      "Predicted Label with 0.8 ratio having accuracy 0.9836 : 7\n",
      "Predicted Label with 0.9 ratio having accuracy 0.9859 : 7\n",
      "========================\n",
      "Test Label: [7]\n",
      "All predictions: \n",
      "[7, 7, 7, 7, 7, 7, 7, 7, 7]\n",
      "Following digit to be recognized:\n"
     ]
    },
    {
     "data": {
      "image/png": "[encoded data removed]",
      "text/plain": [
       "<Figure size 432x288 with 1 Axes>"
      ]
     },
     "metadata": {
      "needs_background": "light"
     },
     "output_type": "display_data"
    },
    {
     "name": "stdout",
     "output_type": "stream",
     "text": [
      "Test Sample No: 3744\n",
      "Predicted Label with 0.1 ratio having accuracy 0.9551 : 6\n",
      "Predicted Label with 0.2 ratio having accuracy 0.974 : 6\n",
      "Predicted Label with 0.3 ratio having accuracy 0.9755 : 6\n",
      "Predicted Label with 0.4 ratio having accuracy 0.9797 : 6\n",
      "Predicted Label with 0.5 ratio having accuracy 0.9815 : 6\n",
      "Predicted Label with 0.6 ratio having accuracy 0.9777 : 6\n",
      "Predicted Label with 0.7 ratio having accuracy 0.9825 : 6\n",
      "Predicted Label with 0.8 ratio having accuracy 0.9836 : 6\n",
      "Predicted Label with 0.9 ratio having accuracy 0.9859 : 6\n",
      "========================\n",
      "Test Label: [6]\n",
      "All predictions: \n",
      "[6, 6, 6, 6, 6, 6, 6, 6, 6]\n",
      "Following digit to be recognized:\n"
     ]
    },
    {
     "data": {
      "image/png": "[encoded data removed]",
      "text/plain": [
       "<Figure size 432x288 with 1 Axes>"
      ]
     },
     "metadata": {
      "needs_background": "light"
     },
     "output_type": "display_data"
    },
    {
     "name": "stdout",
     "output_type": "stream",
     "text": [
      "Test Sample No: 4297\n",
      "Predicted Label with 0.1 ratio having accuracy 0.9551 : 7\n",
      "Predicted Label with 0.2 ratio having accuracy 0.974 : 7\n",
      "Predicted Label with 0.3 ratio having accuracy 0.9755 : 7\n",
      "Predicted Label with 0.4 ratio having accuracy 0.9797 : 7\n",
      "Predicted Label with 0.5 ratio having accuracy 0.9815 : 7\n",
      "Predicted Label with 0.6 ratio having accuracy 0.9777 : 1\n",
      "Predicted Label with 0.7 ratio having accuracy 0.9825 : 7\n",
      "Predicted Label with 0.8 ratio having accuracy 0.9836 : 7\n",
      "Predicted Label with 0.9 ratio having accuracy 0.9859 : 7\n",
      "========================\n",
      "Test Label: [7]\n",
      "All predictions: \n",
      "[7, 7, 7, 7, 7, 1, 7, 7, 7]\n",
      "Following digit to be recognized:\n"
     ]
    },
    {
     "data": {
      "image/png": "[encoded data removed]",
      "text/plain": [
       "<Figure size 432x288 with 1 Axes>"
      ]
     },
     "metadata": {
      "needs_background": "light"
     },
     "output_type": "display_data"
    },
    {
     "name": "stdout",
     "output_type": "stream",
     "text": [
      "Test Sample No: 176\n",
      "Predicted Label with 0.1 ratio having accuracy 0.9551 : 1\n",
      "Predicted Label with 0.2 ratio having accuracy 0.974 : 1\n",
      "Predicted Label with 0.3 ratio having accuracy 0.9755 : 1\n",
      "Predicted Label with 0.4 ratio having accuracy 0.9797 : 1\n",
      "Predicted Label with 0.5 ratio having accuracy 0.9815 : 1\n",
      "Predicted Label with 0.6 ratio having accuracy 0.9777 : 1\n",
      "Predicted Label with 0.7 ratio having accuracy 0.9825 : 1\n",
      "Predicted Label with 0.8 ratio having accuracy 0.9836 : 1\n",
      "Predicted Label with 0.9 ratio having accuracy 0.9859 : 1\n",
      "========================\n",
      "Test Label: [1]\n",
      "All predictions: \n",
      "[1, 1, 1, 1, 1, 1, 1, 1, 1]\n",
      "Following digit to be recognized:\n"
     ]
    },
    {
     "data": {
      "image/png": "[encoded data removed]",
      "text/plain": [
       "<Figure size 432x288 with 1 Axes>"
      ]
     },
     "metadata": {
      "needs_background": "light"
     },
     "output_type": "display_data"
    },
    {
     "name": "stdout",
     "output_type": "stream",
     "text": [
      "Test Sample No: 3877\n",
      "Predicted Label with 0.1 ratio having accuracy 0.9551 : 5\n",
      "Predicted Label with 0.2 ratio having accuracy 0.974 : 5\n",
      "Predicted Label with 0.3 ratio having accuracy 0.9755 : 5\n",
      "Predicted Label with 0.4 ratio having accuracy 0.9797 : 5\n",
      "Predicted Label with 0.5 ratio having accuracy 0.9815 : 5\n",
      "Predicted Label with 0.6 ratio having accuracy 0.9777 : 5\n",
      "Predicted Label with 0.7 ratio having accuracy 0.9825 : 5\n",
      "Predicted Label with 0.8 ratio having accuracy 0.9836 : 5\n",
      "Predicted Label with 0.9 ratio having accuracy 0.9859 : 5\n",
      "========================\n",
      "Test Label: [5]\n",
      "All predictions: \n",
      "[5, 5, 5, 5, 5, 5, 5, 5, 5]\n"
     ]
    }
   ],
   "source": [
    "#testing over few images\n",
    "import random\n",
    "\n",
    "\n",
    "for i in range(0,10):\n",
    "    index=random.randint(0,10000)\n",
    "    print(\"Following digit to be recognized:\")\n",
    "    show_img(x_test_data_norm,index)\n",
    "    plt.show()\n",
    "    print(\"Test Sample No: \"+str(index))\n",
    "    pred_label = []\n",
    "    coreset_acc = []\n",
    "    \n",
    "    for j in range(len(perc)):\n",
    "        \n",
    "        #model evaluation\n",
    "        #cset_accuracy=coreset_model[j].evaluate(x_data_2D_test,x_test_label)[1]\n",
    "        #print(\"\\nAccuracy=\"+str(cset_accuracy))\n",
    "        #coreset_acc.append(cset_accuracy)\n",
    "        \n",
    "        pred = coreset_model[j].predict(x_data_2D_test[index].reshape(1, 28, 28, 1))\n",
    "        pred_label.append(pred.argmax())\n",
    "        print(\"Predicted Label with \"+str(perc[j])+\" ratio having accuracy \"+str(coreset_accuracy[j])+\" : \"+str(pred.argmax()))\n",
    "    print(\"========================\")\n",
    "    print(\"Test Label: \"+str(x_test_label[index]))\n",
    "    print(\"All predictions: \")    \n",
    "    print(pred_label)    \n",
    "    \n",
    "        \n",
    "\n"
   ]
  },
  {
   "cell_type": "code",
   "execution_count": null,
   "metadata": {},
   "outputs": [],
   "source": []
  }
 ],
 "metadata": {
  "kernelspec": {
   "display_name": "Python 3",
   "language": "python",
   "name": "python3"
  },
  "language_info": {
   "codemirror_mode": {
    "name": "ipython",
    "version": 3
   },
   "file_extension": ".py",
   "mimetype": "text/x-python",
   "name": "python",
   "nbconvert_exporter": "python",
   "pygments_lexer": "ipython3",
   "version": "3.7.4"
  }
 },
 "nbformat": 4,
 "nbformat_minor": 1
}
