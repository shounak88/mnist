{
 "cells": [
  {
   "cell_type": "code",
   "execution_count": 1,
   "metadata": {},
   "outputs": [
    {
     "name": "stdout",
     "output_type": "stream",
     "text": [
      "running build_ext\n",
      "gcc -pthread -B /root/anaconda3/envs/py2/compiler_compat -Wl,--sysroot=/ -fno-strict-aliasing -g -O2 -DNDEBUG -g -fwrapv -O3 -Wall -Wstrict-prototypes -fPIC -I/root/anaconda3/envs/py2/include/python2.7 -c /tmp/tmp24IrPa.cpp -o tmp/tmp24IrPa.o -std=c++14\n",
      "\u001b[01m\u001b[Kcc1plus:\u001b[m\u001b[K \u001b[01;35m\u001b[Kwarning: \u001b[m\u001b[Kcommand line option '\u001b[01m\u001b[K-Wstrict-prototypes\u001b[m\u001b[K' is valid for C/ObjC but not for C++\n",
      "gcc -pthread -B /root/anaconda3/envs/py2/compiler_compat -Wl,--sysroot=/ -fno-strict-aliasing -g -O2 -DNDEBUG -g -fwrapv -O3 -Wall -Wstrict-prototypes -fPIC -I/root/anaconda3/envs/py2/include/python2.7 -c /tmp/tmpexmnz4.cpp -o tmp/tmpexmnz4.o -fvisibility=hidden\n",
      "\u001b[01m\u001b[Kcc1plus:\u001b[m\u001b[K \u001b[01;35m\u001b[Kwarning: \u001b[m\u001b[Kcommand line option '\u001b[01m\u001b[K-Wstrict-prototypes\u001b[m\u001b[K' is valid for C/ObjC but not for C++\n",
      "building 'coresets.sensitivity' extension\n",
      "gcc -pthread -B /root/anaconda3/envs/py2/compiler_compat -Wl,--sysroot=/ -fno-strict-aliasing -g -O2 -DNDEBUG -g -fwrapv -O3 -Wall -Wstrict-prototypes -fPIC -I/root/anaconda3/envs/py2/include -I/root/anaconda3/envs/py2/include -I/root/anaconda3/envs/py2/include/python2.7 -c src/sensitivity.cpp -o build/temp.linux-x86_64-2.7/src/sensitivity.o -DVERSION_INFO=\"0.0.1\" -std=c++14 -fvisibility=hidden\n",
      "\u001b[01m\u001b[Kgcc:\u001b[m\u001b[K \u001b[01;31m\u001b[Kerror: \u001b[m\u001b[Ksrc/sensitivity.cpp: No such file or directory\n",
      "error: command 'gcc' failed with exit status 1\n"
     ]
    }
   ],
   "source": [
    "!python ../setup.py build_ext --inplace"
   ]
  },
  {
   "cell_type": "code",
   "execution_count": 2,
   "metadata": {},
   "outputs": [
    {
     "name": "stdout",
     "output_type": "stream",
     "text": [
      "Python 2.7.17 :: Anaconda, Inc.\r\n"
     ]
    }
   ],
   "source": [
    "!python --version"
   ]
  },
  {
   "cell_type": "code",
   "execution_count": 2,
   "metadata": {},
   "outputs": [],
   "source": [
    "%matplotlib inline\n",
    "import numpy as np\n",
    "import matplotlib.pyplot as plt\n",
    "import os\n",
    "import sys\n",
    "module_path = os.path.abspath(os.path.join('..'))\n",
    "if module_path not in sys.path:\n",
    "    sys.path.append(module_path)\n",
    "np.random.seed(42)\n",
    "#from utils import datagen, plotting\n",
    "#import coresets\n",
    "#import algorithms\n",
    "import csv\n",
    "import math\n",
    "from sklearn.cluster import KMeans\n",
    "from sklearn.preprocessing import normalize, scale\n",
    "from math import sqrt,log\n",
    "import pandas as pd\n",
    "import tensorflow as tf\n",
    "import timeit \n",
    "\n",
    "from sklearn.model_selection import train_test_split \n",
    "from sklearn.neighbors import KNeighborsClassifier \n",
    "#import xgboost as xgb\n",
    "from sklearn.metrics import accuracy_score,classification_report,f1_score\n",
    "from sklearn.tree import DecisionTreeClassifier\n",
    "from sklearn.metrics import confusion_matrix\n",
    "from sklearn.naive_bayes import GaussianNB \n",
    "from sklearn.svm import SVC \n",
    "from sklearn.tree import DecisionTreeClassifier\n",
    "\n",
    "# Importing the required Keras modules containing model and layers\n",
    "from tensorflow.python.keras.models import Sequential\n",
    "from tensorflow.python.keras.layers import Dense, Conv2D, Dropout, Flatten, MaxPooling2D"
   ]
  },
  {
   "cell_type": "code",
   "execution_count": 3,
   "metadata": {},
   "outputs": [],
   "source": [
    "##few func defintions\n",
    "#normalize pdf area to 1:\n",
    "def normaliz(array):\n",
    "    normalized = []\n",
    "    s=sum(array)\n",
    "    for i in range(len(array)):\n",
    "        n=array[i]/s\n",
    "        normalized.append(n)\n",
    "    return normalized\n",
    "#Calculate mean\n",
    "def mean(array):\n",
    "    return sum(array)/float(len(array))\n",
    " \n",
    "# Calculate the standard deviation of a list of numbers\n",
    "def stdev(numbers):\n",
    "    avg = mean(numbers)\n",
    "    variance = sum([(x-avg)**2 for x in numbers]) / float(len(numbers)-1)\n",
    "    return sqrt(variance)\n",
    "#kl divergence\n",
    "def kl(p, q):\n",
    "    p = np.asarray(p, dtype=np.float)\n",
    "    q = np.asarray(q, dtype=np.float)\n",
    "    c = 0\n",
    "    for i in range(len(p)):\n",
    "        if(p[i]!=0) and (q[i]!=0):\n",
    "        #if(p[i]!=0):\n",
    "            c=c+p[i]*log(p[i]/q[i])     \n",
    "    return c\n",
    "    #return np.sum(np.where(p != 0 , p * np.log(p / q), 0))\n",
    "    \n",
    "def dist(x,y):   \n",
    "    return sqrt(np.sum((x-y)**2))\n",
    "\n",
    "def cost(data,clusters):\n",
    "    k=len(clusters)\n",
    "    min_dist = []\n",
    "    for i in range(len(data)):\n",
    "        d = []\n",
    "        for j in range(k):\n",
    "            d.append(dist(data[i],clusters[j]))\n",
    "        min_dist.append(np.min(d))\n",
    "    cost = sum(min_dist)\n",
    "    return cost\n",
    "#kl divergence\n",
    "def kl(p, q):\n",
    "    p = np.asarray(p, dtype=np.float)\n",
    "    q = np.asarray(q, dtype=np.float)\n",
    "    c = 0\n",
    "    for i in range(len(p)):\n",
    "        if(p[i]!=0) and (q[i]!=0):\n",
    "        #if(p[i]!=0):\n",
    "            c=c+p[i]*log(p[i]/q[i])     \n",
    "    return c\n",
    "    #return np.sum(np.where(p != 0 , p * np.log(p / q), 0))\n",
    "    "
   ]
  },
  {
   "cell_type": "code",
   "execution_count": 4,
   "metadata": {},
   "outputs": [],
   "source": [
    "#window kernel\n",
    "def window_function(x_vec, unit_len=1):\n",
    "    for row in x_vec:\n",
    "        if np.abs(row) > (unit_len/2):\n",
    "            return 0\n",
    "    return 1\n",
    "\n",
    "def kernel_func(h, x, x_i):\n",
    "    assert (x.shape == x_i.shape), 'vectors x and x_i must have the same dimensions'\n",
    "    return (x - x_i) / h\n",
    "\n",
    "def window_func(x_vec, h):\n",
    "   \n",
    "    for row in x_vec:\n",
    "        if np.abs(row) > 0.5:\n",
    "            #print(row)\n",
    "            return 0\n",
    "    return 1\n",
    "    #dist=sqrt(np.sum((x_vec)**2))\n",
    "    #print(\"distance=\"+str(dist))\n",
    "    #if dist > 0.5:\n",
    "     #   return 0\n",
    "    #else: \n",
    "     #   return 1\n",
    "\n",
    "#main parzen window function\n",
    "def parzen_estimate(x_samples, point_x, h, d):\n",
    "    \n",
    "    k_n = 0\n",
    "    for row in x_samples:\n",
    "        x_i = kernel_func(h=h, x=point_x, x_i=row[:,np.newaxis])\n",
    "        #x_i = kernel_func(h=h, x=point_x, x_i=row)\n",
    "        k_n += window_func(x_i, h=h)\n",
    "        \n",
    "    #print(k_n)\n",
    "    temp1=float(k_n)/(h**d)\n",
    "    temp2=temp1/len(x_samples)\n",
    "    return temp2\n",
    "    #return (float(k_n) / len(x_samples)) / (h**d)\n",
    "    \n",
    "def covar(data):\n",
    "    mean_data=data.mean(axis=0)   \n",
    "    cov=np.zeros((len(mean_data),len(mean_data)))\n",
    "    for i in range(len(mean_data)):\n",
    "        for j in range(len(mean_data)):\n",
    "            for k in range(len(data)):\n",
    "                cov[i][j]=cov[i][j]+((data[k][i]-mean_data[i])*(data[k][j]-mean_data[j]))\n",
    "            cov[i][j]=cov[i][j]/(len(data)-1)\n",
    "    return cov  \n",
    "\n",
    "def show_img(data,idx):\n",
    "    data *= 255\n",
    "    im=np.reshape(data[idx],(28,28))\n",
    "    plt.imshow(im,cmap='Greys')"
   ]
  },
  {
   "cell_type": "code",
   "execution_count": 5,
   "metadata": {},
   "outputs": [],
   "source": [
    "#import MNIST train set\n",
    "#(x_train, y_train), (x_test, y_test) = tf.keras.datasets.mnist.load_data()\n",
    "x_train_df=pd.read_csv('mnist_train.csv', sep=',')\n",
    "\n",
    "#convert df to np\n",
    "x_train_temp_np=x_train_df.to_numpy()\n",
    "\n",
    "#dividing into labels and data \n",
    "x_train_data=x_train_temp_np[:, 1:785]\n",
    "x_train_label=x_train_temp_np[:,[0]]\n"
   ]
  },
  {
   "cell_type": "code",
   "execution_count": 6,
   "metadata": {},
   "outputs": [],
   "source": [
    "#import MNIST test set\n",
    "#(x_train, y_train), (x_test, y_test) = tf.keras.datasets.mnist.load_data()\n",
    "x_test_df=pd.read_csv('mnist_test.csv', sep=',')\n",
    "\n",
    "#convert df to np\n",
    "x_test_temp_np=x_test_df.to_numpy()\n",
    "\n",
    "#dividing into labels and data \n",
    "x_test_data=x_test_temp_np[:, 1:785]\n",
    "x_test_label=x_test_temp_np[:,[0]]\n",
    "\n"
   ]
  },
  {
   "cell_type": "code",
   "execution_count": 7,
   "metadata": {},
   "outputs": [
    {
     "name": "stdout",
     "output_type": "stream",
     "text": [
      "141\n"
     ]
    }
   ],
   "source": [
    "#normalizing both train and test data with max RGB value\n",
    "x_train_data_norm=x_train_data.astype('float')\n",
    "x_test_data_norm=x_test_data.astype('float')\n",
    "x_train_data_norm/=255\n",
    "x_test_data_norm/=255\n",
    "data_length=20000\n",
    "b=int(sqrt(data_length))\n",
    "print(b)"
   ]
  },
  {
   "cell_type": "code",
   "execution_count": 8,
   "metadata": {},
   "outputs": [
    {
     "data": {
      "text/plain": [
       "array([[0., 0., 0., ..., 0., 0., 0.],\n",
       "       [0., 0., 0., ..., 0., 0., 0.],\n",
       "       [0., 0., 0., ..., 0., 0., 0.],\n",
       "       ...,\n",
       "       [0., 0., 0., ..., 0., 0., 0.],\n",
       "       [0., 0., 0., ..., 0., 0., 0.],\n",
       "       [0., 0., 0., ..., 0., 0., 0.]])"
      ]
     },
     "execution_count": 8,
     "metadata": {},
     "output_type": "execute_result"
    }
   ],
   "source": [
    "x_train_data_norm"
   ]
  },
  {
   "cell_type": "code",
   "execution_count": 13,
   "metadata": {},
   "outputs": [
    {
     "data": {
      "image/png": "[encoded data removed]",
      "text/plain": [
       "<Figure size 432x288 with 1 Axes>"
      ]
     },
     "metadata": {
      "needs_background": "light"
     },
     "output_type": "display_data"
    }
   ],
   "source": [
    "df=pd.read_csv('MNIST_KL20.csv')#load 20K\n",
    "kl_load20=df.to_numpy()\n",
    "plt.plot(kl_load20)\n",
    "plt.show()\n",
    "\n",
    "\n"
   ]
  },
  {
   "cell_type": "code",
   "execution_count": 14,
   "metadata": {},
   "outputs": [
    {
     "name": "stdout",
     "output_type": "stream",
     "text": [
      "20000\n"
     ]
    },
    {
     "data": {
      "text/plain": [
       "(20000, 28, 28)"
      ]
     },
     "execution_count": 14,
     "metadata": {},
     "output_type": "execute_result"
    }
   ],
   "source": [
    "#convert training record to 2D for DL feeding\n",
    "\n",
    "x_train_data_2D = []\n",
    "print(len(x_train_data_norm[0:20000]))\n",
    "for i in range(len(x_train_data_norm[0:20000])):\n",
    "    #x_test_data_norm[i] *= 255\n",
    "    sqr_test=np.reshape(x_train_data_norm[i],(28,28))\n",
    "    x_train_data_2D.append(sqr_test)\n",
    "\n",
    "x_train_data_2D_np=np.array(x_train_data_2D)\n",
    "\n",
    "#preprocessing for Keras\n",
    "x_data_2D_train = x_train_data_2D_np.reshape(x_train_data_2D_np.shape[0], 28, 28, 1)\n",
    "x_train_data_2D_np.shape"
   ]
  },
  {
   "cell_type": "code",
   "execution_count": 15,
   "metadata": {},
   "outputs": [
    {
     "name": "stdout",
     "output_type": "stream",
     "text": [
      "10000\n"
     ]
    },
    {
     "data": {
      "text/plain": [
       "(10000, 28, 28)"
      ]
     },
     "execution_count": 15,
     "metadata": {},
     "output_type": "execute_result"
    }
   ],
   "source": [
    "#convert test record to 2D for DL feeding\n",
    "x_test_data_2D = []\n",
    "print(len(x_test_data_norm))\n",
    "for i in range(len(x_test_data_norm)):\n",
    "    #x_test_data_norm[i] *= 255\n",
    "    sqr_test=np.reshape(x_test_data_norm[i],(28,28))\n",
    "    x_test_data_2D.append(sqr_test)\n",
    "\n",
    "x_test_data_2D_np=np.array(x_test_data_2D)\n",
    "\n",
    "#preprocessing for Keras\n",
    "x_data_2D_test = x_test_data_2D_np.reshape(x_test_data_2D_np.shape[0], 28, 28, 1)\n",
    "x_test_data_2D_np.shape"
   ]
  },
  {
   "cell_type": "code",
   "execution_count": 55,
   "metadata": {
    "scrolled": true
   },
   "outputs": [
    {
     "name": "stdout",
     "output_type": "stream",
     "text": [
      "Epoch 1/10\n",
      "20000/20000 [==============================] - 5s 259us/sample - loss: 0.3314 - acc: 0.9007\n",
      "Epoch 2/10\n",
      "20000/20000 [==============================] - 5s 249us/sample - loss: 0.1328 - acc: 0.9597\n",
      "Epoch 3/10\n",
      "20000/20000 [==============================] - 5s 256us/sample - loss: 0.0836 - acc: 0.9736\n",
      "Epoch 4/10\n",
      "20000/20000 [==============================] - 7s 330us/sample - loss: 0.0595 - acc: 0.9803\n",
      "Epoch 5/10\n",
      "20000/20000 [==============================] - 6s 324us/sample - loss: 0.0440 - acc: 0.9862\n",
      "Epoch 6/10\n",
      "20000/20000 [==============================] - 6s 315us/sample - loss: 0.0358 - acc: 0.9880\n",
      "Epoch 7/10\n",
      "20000/20000 [==============================] - 6s 315us/sample - loss: 0.0291 - acc: 0.9904\n",
      "Epoch 8/10\n",
      "20000/20000 [==============================] - 6s 319us/sample - loss: 0.0241 - acc: 0.9919\n",
      "Epoch 9/10\n",
      "20000/20000 [==============================] - 6s 323us/sample - loss: 0.0222 - acc: 0.9924\n",
      "Epoch 10/10\n",
      "20000/20000 [==============================] - 6s 319us/sample - loss: 0.0231 - acc: 0.9926\n"
     ]
    },
    {
     "data": {
      "text/plain": [
       "<tensorflow.python.keras.callbacks.History at 0x1b18fe2db88>"
      ]
     },
     "execution_count": 55,
     "metadata": {},
     "output_type": "execute_result"
    }
   ],
   "source": [
    "#CNN on full set\n",
    "\n",
    "# Creating a Sequential Model and adding the layers\n",
    "input_shape = (28, 28, 1)\n",
    "fullset_model = Sequential()\n",
    "fullset_model.add(Conv2D(28, kernel_size=(3,3), input_shape=input_shape))\n",
    "fullset_model.add(MaxPooling2D(pool_size=(2, 2)))\n",
    "fullset_model.add(Flatten()) # Flattening the 2D arrays for fully connected layers\n",
    "fullset_model.add(Dense(128, activation=tf.nn.relu))\n",
    "fullset_model.add(Dropout(0.2))\n",
    "fullset_model.add(Dense(10,activation=tf.nn.softmax))\n",
    "\n",
    "fullset_model.compile(optimizer='adam', loss='sparse_categorical_crossentropy', metrics=['accuracy'])\n",
    "fullset_model.fit(x=x_data_2D_train,y=x_train_label[0:20000], epochs=10)"
   ]
  },
  {
   "cell_type": "code",
   "execution_count": 56,
   "metadata": {},
   "outputs": [
    {
     "name": "stdout",
     "output_type": "stream",
     "text": [
      "10000/10000 [==============================] - 1s 126us/sample - loss: 0.0991 - acc: 0.9735\n"
     ]
    },
    {
     "data": {
      "text/plain": [
       "[0.099138227476686, 0.9735]"
      ]
     },
     "execution_count": 56,
     "metadata": {},
     "output_type": "execute_result"
    }
   ],
   "source": [
    "fullset_model.evaluate(x_data_2D_test,x_test_label)"
   ]
  },
  {
   "cell_type": "code",
   "execution_count": 16,
   "metadata": {},
   "outputs": [],
   "source": [
    "idx=np.arange(start=0, stop=20000, step=1)"
   ]
  },
  {
   "cell_type": "code",
   "execution_count": 17,
   "metadata": {},
   "outputs": [
    {
     "name": "stdout",
     "output_type": "stream",
     "text": [
      "[    0     1     2 ... 19997 19998 19999]\n"
     ]
    }
   ],
   "source": [
    "print(idx)"
   ]
  },
  {
   "cell_type": "code",
   "execution_count": 50,
   "metadata": {},
   "outputs": [
    {
     "name": "stdout",
     "output_type": "stream",
     "text": [
      "(20000, 787)\n",
      "(20000, 787)\n"
     ]
    }
   ],
   "source": [
    "\n",
    "#append label and KL weight and sort\n",
    "x_data_label_merge=np.column_stack((x_train_data_norm[0:20000],x_train_label[0:20000]))\n",
    "x_data_label_kl_merge=np.column_stack((x_data_label_merge,kl_load20))\n",
    "x_data_label_kl_merge_idx=np.column_stack((x_data_label_kl_merge,idx))\n",
    "x_data_label_kl_merge_idx[:,[786]]\n",
    "print(x_data_label_kl_merge_idx.shape)\n",
    "\n",
    "x_data_label_kl_merge_idx_sort=x_data_label_kl_merge_idx[x_data_label_kl_merge_idx[:,785].argsort()]\n",
    "print(x_data_label_kl_merge_idx_sort.shape)\n",
    "#x_data_label_kl_merge_idx_sort[:,[786]]"
   ]
  },
  {
   "cell_type": "code",
   "execution_count": 31,
   "metadata": {},
   "outputs": [
    {
     "name": "stdout",
     "output_type": "stream",
     "text": [
      "Following digit to be recognized:\n"
     ]
    },
    {
     "data": {
      "image/png": "[encoded data removed]",
      "text/plain": [
       "<Figure size 432x288 with 1 Axes>"
      ]
     },
     "metadata": {
      "needs_background": "light"
     },
     "output_type": "display_data"
    }
   ],
   "source": [
    "index = 1003\n",
    "print(\"Following digit to be recognized:\")\n",
    "show_img(x_test_data_norm,index)"
   ]
  },
  {
   "cell_type": "code",
   "execution_count": 54,
   "metadata": {},
   "outputs": [
    {
     "name": "stdout",
     "output_type": "stream",
     "text": [
      "Begin test: \n",
      "           0\n",
      "0     3198.0\n",
      "1    18804.0\n",
      "2      194.0\n",
      "3     4814.0\n",
      "4    11379.0\n",
      "..       ...\n",
      "995  10984.0\n",
      "996   9687.0\n",
      "997  11746.0\n",
      "998  10936.0\n",
      "999  17602.0\n",
      "\n",
      "[1000 rows x 1 columns]\n",
      "Size of Coreset: 1000\n",
      "Epoch 1/10\n",
      "1000/1000 [==============================] - 0s 444us/sample - loss: 1.0697 - acc: 0.6620\n",
      "Epoch 2/10\n",
      "1000/1000 [==============================] - 0s 306us/sample - loss: 0.3907 - acc: 0.8760\n",
      "Epoch 3/10\n",
      "1000/1000 [==============================] - 0s 267us/sample - loss: 0.2526 - acc: 0.9240\n",
      "Epoch 4/10\n",
      "1000/1000 [==============================] - 0s 237us/sample - loss: 0.1956 - acc: 0.9440\n",
      "Epoch 5/10\n",
      "1000/1000 [==============================] - 0s 244us/sample - loss: 0.1143 - acc: 0.9720\n",
      "Epoch 6/10\n",
      "1000/1000 [==============================] - 0s 241us/sample - loss: 0.0973 - acc: 0.9750\n",
      "Epoch 7/10\n",
      "1000/1000 [==============================] - 0s 283us/sample - loss: 0.0724 - acc: 0.9800\n",
      "Epoch 8/10\n",
      "1000/1000 [==============================] - 0s 300us/sample - loss: 0.0563 - acc: 0.9860\n",
      "Epoch 9/10\n",
      "1000/1000 [==============================] - 0s 242us/sample - loss: 0.0424 - acc: 0.9890\n",
      "Epoch 10/10\n",
      "1000/1000 [==============================] - 0s 246us/sample - loss: 0.0298 - acc: 0.9930\n",
      "10000/10000 [==============================] - 1s 125us/sample - loss: 0.4009 - acc: 0.8884\n",
      "\n",
      "Accuracy=0.8884\n",
      "Test Label: [5]\n",
      "Predicted Label: 5\n",
      "            0\n",
      "0     19361.0\n",
      "1      9914.0\n",
      "2      2288.0\n",
      "3     18176.0\n",
      "4      2034.0\n",
      "...       ...\n",
      "1995  10984.0\n",
      "1996   9687.0\n",
      "1997  11746.0\n",
      "1998  10936.0\n",
      "1999  17602.0\n",
      "\n",
      "[2000 rows x 1 columns]\n",
      "Size of Coreset: 2000\n",
      "Epoch 1/10\n",
      "2000/2000 [==============================] - 1s 371us/sample - loss: 0.8330 - acc: 0.7400\n",
      "Epoch 2/10\n",
      "2000/2000 [==============================] - 0s 241us/sample - loss: 0.3535 - acc: 0.9035\n",
      "Epoch 3/10\n",
      "2000/2000 [==============================] - 0s 241us/sample - loss: 0.2472 - acc: 0.9250\n",
      "Epoch 4/10\n",
      "2000/2000 [==============================] - 1s 284us/sample - loss: 0.1769 - acc: 0.9440\n",
      "Epoch 5/10\n",
      "2000/2000 [==============================] - 0s 240us/sample - loss: 0.1241 - acc: 0.9650\n",
      "Epoch 6/10\n",
      "2000/2000 [==============================] - 0s 245us/sample - loss: 0.0896 - acc: 0.9760\n",
      "Epoch 7/10\n",
      "2000/2000 [==============================] - 0s 236us/sample - loss: 0.0738 - acc: 0.9790\n",
      "Epoch 8/10\n",
      "2000/2000 [==============================] - 0s 236us/sample - loss: 0.0465 - acc: 0.9900\n",
      "Epoch 9/10\n",
      "2000/2000 [==============================] - 0s 240us/sample - loss: 0.0346 - acc: 0.9920\n",
      "Epoch 10/10\n",
      "2000/2000 [==============================] - 0s 237us/sample - loss: 0.0264 - acc: 0.9940\n",
      "10000/10000 [==============================] - 1s 126us/sample - loss: 0.2330 - acc: 0.9324\n",
      "\n",
      "Accuracy=0.9324\n",
      "Test Label: [5]\n",
      "Predicted Label: 5\n",
      "            0\n",
      "0     12630.0\n",
      "1     13305.0\n",
      "2     14574.0\n",
      "3     16519.0\n",
      "4      5982.0\n",
      "...       ...\n",
      "2995  10984.0\n",
      "2996   9687.0\n",
      "2997  11746.0\n",
      "2998  10936.0\n",
      "2999  17602.0\n",
      "\n",
      "[3000 rows x 1 columns]\n",
      "Size of Coreset: 3000\n",
      "Epoch 1/10\n",
      "3000/3000 [==============================] - 1s 378us/sample - loss: 0.8098 - acc: 0.7493\n",
      "Epoch 2/10\n",
      "3000/3000 [==============================] - 1s 338us/sample - loss: 0.3343 - acc: 0.8987\n",
      "Epoch 3/10\n",
      "3000/3000 [==============================] - 1s 350us/sample - loss: 0.2280 - acc: 0.9343s - loss: 0.24\n",
      "Epoch 4/10\n",
      "3000/3000 [==============================] - 1s 309us/sample - loss: 0.1628 - acc: 0.9513\n",
      "Epoch 5/10\n",
      "3000/3000 [==============================] - 1s 310us/sample - loss: 0.1163 - acc: 0.9650\n",
      "Epoch 6/10\n",
      "3000/3000 [==============================] - 1s 303us/sample - loss: 0.0895 - acc: 0.9750\n",
      "Epoch 7/10\n",
      "3000/3000 [==============================] - 1s 303us/sample - loss: 0.0634 - acc: 0.9830\n",
      "Epoch 8/10\n",
      "3000/3000 [==============================] - 1s 297us/sample - loss: 0.0473 - acc: 0.9863\n",
      "Epoch 9/10\n",
      "3000/3000 [==============================] - 1s 321us/sample - loss: 0.0427 - acc: 0.9890\n",
      "Epoch 10/10\n",
      "3000/3000 [==============================] - 1s 318us/sample - loss: 0.0340 - acc: 0.9910\n",
      "10000/10000 [==============================] - 1s 149us/sample - loss: 0.2056 - acc: 0.9430\n",
      "\n",
      "Accuracy=0.943\n",
      "Test Label: [5]\n",
      "Predicted Label: 5\n",
      "========================\n",
      "All predictions: \n",
      "[5, 5, 5]\n"
     ]
    }
   ],
   "source": [
    "#storing separate models for each percentage(models are indexed with loop counter)\n",
    "\n",
    "#perc=[0.1,0.2,0.3,0.4,0.5,0.6,0.7,0.8,0.9]\n",
    "perc=[0.05,0.10,0.15]\n",
    "coreset_accuracy=[]\n",
    "label_prediction = []\n",
    "coreset_model = [0]*len(perc)\n",
    "coreset_sample = [0]*len(perc)\n",
    "df_sample = pd.DataFrame()\n",
    "print(\"Begin test: \")\n",
    "for j in range(len(perc)):\n",
    "    \n",
    "    coreset_size=int(perc[j]*len(kl_load20))\n",
    "    coreset_data_label=x_data_label_kl_merge_idx_sort[(20000-coreset_size):20000]\n",
    "    #coreset_data_label=x_data_label_kl_merge_idx_sort[0:coreset_size]\n",
    "    coreset_sample=coreset_data_label[:,[786]]\n",
    "    coreset_data=coreset_data_label[:, 0:784]\n",
    "    coreset_label=coreset_data_label[:,[784]]\n",
    "    \n",
    "    df2=pd.DataFrame(coreset_data_label[:,[786]])\n",
    "    print(df2)\n",
    "    df2.to_csv(\"file1\"+str(j)+\".csv\") \n",
    "    df_sample.append(df2)\n",
    "   \n",
    "    print(\"Size of Coreset: \" +str(len(coreset_data)))\n",
    "    \n",
    "    #format conversion\n",
    "    #convert coreset record to 2D for DL feeding\n",
    "    coreset_data_2D=[]\n",
    "    for k in range(len(coreset_data)):\n",
    "        #coreset_data[k] *= 255\n",
    "        sqr=np.reshape(coreset_data[k],(28,28))\n",
    "        coreset_data_2D.append(sqr)\n",
    "\n",
    "    coreset_data_2D_np=np.array(coreset_data_2D)\n",
    "    coreset_data_2D_np.shape\n",
    "    \n",
    "    #preprocessing for Keras\n",
    "    coreset_data_2D_train = coreset_data_2D_np.reshape(coreset_data_2D_np.shape[0], 28, 28, 1)\n",
    "    \n",
    "    #model initialization\n",
    "    # Creating a Sequential Model and adding the layers\n",
    "    input_shape = (28, 28, 1)\n",
    "    coreset_model[j] = Sequential()\n",
    "    coreset_model[j].add(Conv2D(28, kernel_size=(4,4), input_shape=input_shape))\n",
    "    coreset_model[j].add(MaxPooling2D(pool_size=(2, 2)))\n",
    "    coreset_model[j].add(Flatten()) # Flattening the 2D arrays for fully connected layers\n",
    "    coreset_model[j].add(Dense(128, activation=tf.nn.relu))\n",
    "    coreset_model[j].add(Dropout(0.2))\n",
    "    coreset_model[j].add(Dense(10,activation=tf.nn.softmax))\n",
    "    \n",
    "    #model training\n",
    "    coreset_model[j].compile(optimizer='adam', loss='sparse_categorical_crossentropy', metrics=['accuracy'])\n",
    "    coreset_model[j].fit(x=coreset_data_2D_train,y=coreset_label, epochs=10)\n",
    "    \n",
    "    #model evaluation\n",
    "    cset_acc=coreset_model[j].evaluate(x_data_2D_test,x_test_label)[1]\n",
    "    print(\"\\nAccuracy=\"+str(cset_acc))\n",
    "    coreset_accuracy.append(cset_acc)\n",
    "    \n",
    "    #testing with a test image\n",
    "    pred = coreset_model[j].predict(x_data_2D_test[index].reshape(1, 28, 28, 1))\n",
    "    label_prediction.append(pred.argmax())\n",
    "    print(\"Test Label: \"+str(x_test_label[index]))\n",
    "    print(\"Predicted Label: \"+str(pred.argmax()))\n",
    "print(\"========================\")\n",
    "print(\"All predictions: \")    \n",
    "print(label_prediction)    "
   ]
  },
  {
   "cell_type": "raw",
   "metadata": {},
   "source": [
    "print(df_sample)"
   ]
  },
  {
   "cell_type": "code",
   "execution_count": 27,
   "metadata": {},
   "outputs": [
    {
     "data": {
      "image/png": "[encoded data removed]",
      "text/plain": [
       "<Figure size 432x288 with 1 Axes>"
      ]
     },
     "metadata": {
      "needs_background": "light"
     },
     "output_type": "display_data"
    }
   ],
   "source": [
    "plt.grid(True)\n",
    "plt.xlabel('Coreset size = Percentage of full set')\n",
    "plt.ylabel('CNN_accuracy')\n",
    "plt.title('CNN accuracy at increasing coreset size')\n",
    "plt.plot(perc,coreset_accuracy)\n",
    "plt.savefig(\"Cnn_acc4x4_2.png\")"
   ]
  },
  {
   "cell_type": "code",
   "execution_count": 30,
   "metadata": {},
   "outputs": [
    {
     "data": {
      "text/plain": [
       "[0.9652, 0.9714, 0.9785, 0.9812, 0.9812, 0.982, 0.9841, 0.9864, 0.9846]"
      ]
     },
     "execution_count": 30,
     "metadata": {},
     "output_type": "execute_result"
    }
   ],
   "source": [
    "coreset_accuracy"
   ]
  },
  {
   "cell_type": "code",
   "execution_count": 29,
   "metadata": {},
   "outputs": [
    {
     "name": "stdout",
     "output_type": "stream",
     "text": [
      "Following digit to be recognized:\n"
     ]
    },
    {
     "data": {
      "image/png": "[encoded data removed]",
      "text/plain": [
       "<Figure size 432x288 with 1 Axes>"
      ]
     },
     "metadata": {
      "needs_background": "light"
     },
     "output_type": "display_data"
    },
    {
     "name": "stdout",
     "output_type": "stream",
     "text": [
      "Test Sample No: 1552\n",
      "Predicted Label with 0.1 ratio having accuracy 0.9652 : 4\n",
      "Predicted Label with 0.2 ratio having accuracy 0.9714 : 4\n",
      "Predicted Label with 0.3 ratio having accuracy 0.9785 : 4\n",
      "Predicted Label with 0.4 ratio having accuracy 0.9812 : 4\n",
      "Predicted Label with 0.5 ratio having accuracy 0.9812 : 4\n",
      "Predicted Label with 0.6 ratio having accuracy 0.982 : 4\n",
      "Predicted Label with 0.7 ratio having accuracy 0.9841 : 4\n",
      "Predicted Label with 0.8 ratio having accuracy 0.9864 : 4\n",
      "Predicted Label with 0.9 ratio having accuracy 0.9846 : 4\n",
      "========================\n",
      "Test Label: [4]\n",
      "All predictions: \n",
      "[4, 4, 4, 4, 4, 4, 4, 4, 4]\n",
      "Following digit to be recognized:\n"
     ]
    },
    {
     "data": {
      "image/png": "[encoded data removed]",
      "text/plain": [
       "<Figure size 432x288 with 1 Axes>"
      ]
     },
     "metadata": {
      "needs_background": "light"
     },
     "output_type": "display_data"
    },
    {
     "name": "stdout",
     "output_type": "stream",
     "text": [
      "Test Sample No: 7563\n",
      "Predicted Label with 0.1 ratio having accuracy 0.9652 : 1\n",
      "Predicted Label with 0.2 ratio having accuracy 0.9714 : 1\n",
      "Predicted Label with 0.3 ratio having accuracy 0.9785 : 1\n",
      "Predicted Label with 0.4 ratio having accuracy 0.9812 : 1\n",
      "Predicted Label with 0.5 ratio having accuracy 0.9812 : 1\n",
      "Predicted Label with 0.6 ratio having accuracy 0.982 : 1\n",
      "Predicted Label with 0.7 ratio having accuracy 0.9841 : 1\n",
      "Predicted Label with 0.8 ratio having accuracy 0.9864 : 1\n",
      "Predicted Label with 0.9 ratio having accuracy 0.9846 : 1\n",
      "========================\n",
      "Test Label: [1]\n",
      "All predictions: \n",
      "[1, 1, 1, 1, 1, 1, 1, 1, 1]\n",
      "Following digit to be recognized:\n"
     ]
    },
    {
     "data": {
      "image/png": "[encoded data removed]",
      "text/plain": [
       "<Figure size 432x288 with 1 Axes>"
      ]
     },
     "metadata": {
      "needs_background": "light"
     },
     "output_type": "display_data"
    },
    {
     "name": "stdout",
     "output_type": "stream",
     "text": [
      "Test Sample No: 1282\n",
      "Predicted Label with 0.1 ratio having accuracy 0.9652 : 9\n",
      "Predicted Label with 0.2 ratio having accuracy 0.9714 : 9\n",
      "Predicted Label with 0.3 ratio having accuracy 0.9785 : 9\n",
      "Predicted Label with 0.4 ratio having accuracy 0.9812 : 9\n",
      "Predicted Label with 0.5 ratio having accuracy 0.9812 : 9\n",
      "Predicted Label with 0.6 ratio having accuracy 0.982 : 9\n",
      "Predicted Label with 0.7 ratio having accuracy 0.9841 : 9\n",
      "Predicted Label with 0.8 ratio having accuracy 0.9864 : 9\n",
      "Predicted Label with 0.9 ratio having accuracy 0.9846 : 9\n",
      "========================\n",
      "Test Label: [9]\n",
      "All predictions: \n",
      "[9, 9, 9, 9, 9, 9, 9, 9, 9]\n",
      "Following digit to be recognized:\n"
     ]
    },
    {
     "data": {
      "image/png": "[encoded data removed]",
      "text/plain": [
       "<Figure size 432x288 with 1 Axes>"
      ]
     },
     "metadata": {
      "needs_background": "light"
     },
     "output_type": "display_data"
    },
    {
     "name": "stdout",
     "output_type": "stream",
     "text": [
      "Test Sample No: 1804\n",
      "Predicted Label with 0.1 ratio having accuracy 0.9652 : 3\n",
      "Predicted Label with 0.2 ratio having accuracy 0.9714 : 3\n",
      "Predicted Label with 0.3 ratio having accuracy 0.9785 : 3\n",
      "Predicted Label with 0.4 ratio having accuracy 0.9812 : 3\n",
      "Predicted Label with 0.5 ratio having accuracy 0.9812 : 3\n",
      "Predicted Label with 0.6 ratio having accuracy 0.982 : 3\n",
      "Predicted Label with 0.7 ratio having accuracy 0.9841 : 3\n",
      "Predicted Label with 0.8 ratio having accuracy 0.9864 : 3\n",
      "Predicted Label with 0.9 ratio having accuracy 0.9846 : 3\n",
      "========================\n",
      "Test Label: [3]\n",
      "All predictions: \n",
      "[3, 3, 3, 3, 3, 3, 3, 3, 3]\n",
      "Following digit to be recognized:\n"
     ]
    },
    {
     "data": {
      "image/png": "[encoded data removed]",
      "text/plain": [
       "<Figure size 432x288 with 1 Axes>"
      ]
     },
     "metadata": {
      "needs_background": "light"
     },
     "output_type": "display_data"
    },
    {
     "name": "stdout",
     "output_type": "stream",
     "text": [
      "Test Sample No: 5644\n",
      "Predicted Label with 0.1 ratio having accuracy 0.9652 : 8\n",
      "Predicted Label with 0.2 ratio having accuracy 0.9714 : 8\n",
      "Predicted Label with 0.3 ratio having accuracy 0.9785 : 8\n",
      "Predicted Label with 0.4 ratio having accuracy 0.9812 : 8\n",
      "Predicted Label with 0.5 ratio having accuracy 0.9812 : 8\n",
      "Predicted Label with 0.6 ratio having accuracy 0.982 : 8\n",
      "Predicted Label with 0.7 ratio having accuracy 0.9841 : 8\n",
      "Predicted Label with 0.8 ratio having accuracy 0.9864 : 8\n",
      "Predicted Label with 0.9 ratio having accuracy 0.9846 : 8\n",
      "========================\n",
      "Test Label: [8]\n",
      "All predictions: \n",
      "[8, 8, 8, 8, 8, 8, 8, 8, 8]\n",
      "Following digit to be recognized:\n"
     ]
    },
    {
     "data": {
      "image/png": "[encoded data removed]",
      "text/plain": [
       "<Figure size 432x288 with 1 Axes>"
      ]
     },
     "metadata": {
      "needs_background": "light"
     },
     "output_type": "display_data"
    },
    {
     "name": "stdout",
     "output_type": "stream",
     "text": [
      "Test Sample No: 7044\n",
      "Predicted Label with 0.1 ratio having accuracy 0.9652 : 9\n",
      "Predicted Label with 0.2 ratio having accuracy 0.9714 : 9\n",
      "Predicted Label with 0.3 ratio having accuracy 0.9785 : 9\n",
      "Predicted Label with 0.4 ratio having accuracy 0.9812 : 9\n",
      "Predicted Label with 0.5 ratio having accuracy 0.9812 : 9\n",
      "Predicted Label with 0.6 ratio having accuracy 0.982 : 9\n",
      "Predicted Label with 0.7 ratio having accuracy 0.9841 : 9\n",
      "Predicted Label with 0.8 ratio having accuracy 0.9864 : 9\n",
      "Predicted Label with 0.9 ratio having accuracy 0.9846 : 9\n",
      "========================\n",
      "Test Label: [9]\n",
      "All predictions: \n",
      "[9, 9, 9, 9, 9, 9, 9, 9, 9]\n",
      "Following digit to be recognized:\n"
     ]
    },
    {
     "data": {
      "image/png": "[encoded data removed]",
      "text/plain": [
       "<Figure size 432x288 with 1 Axes>"
      ]
     },
     "metadata": {
      "needs_background": "light"
     },
     "output_type": "display_data"
    },
    {
     "name": "stdout",
     "output_type": "stream",
     "text": [
      "Test Sample No: 2319\n",
      "Predicted Label with 0.1 ratio having accuracy 0.9652 : 4\n",
      "Predicted Label with 0.2 ratio having accuracy 0.9714 : 4\n",
      "Predicted Label with 0.3 ratio having accuracy 0.9785 : 4\n",
      "Predicted Label with 0.4 ratio having accuracy 0.9812 : 4\n",
      "Predicted Label with 0.5 ratio having accuracy 0.9812 : 4\n",
      "Predicted Label with 0.6 ratio having accuracy 0.982 : 4\n",
      "Predicted Label with 0.7 ratio having accuracy 0.9841 : 4\n",
      "Predicted Label with 0.8 ratio having accuracy 0.9864 : 4\n",
      "Predicted Label with 0.9 ratio having accuracy 0.9846 : 4\n",
      "========================\n",
      "Test Label: [4]\n",
      "All predictions: \n",
      "[4, 4, 4, 4, 4, 4, 4, 4, 4]\n",
      "Following digit to be recognized:\n"
     ]
    },
    {
     "data": {
      "image/png": "[encoded data removed]",
      "text/plain": [
       "<Figure size 432x288 with 1 Axes>"
      ]
     },
     "metadata": {
      "needs_background": "light"
     },
     "output_type": "display_data"
    },
    {
     "name": "stdout",
     "output_type": "stream",
     "text": [
      "Test Sample No: 7460\n",
      "Predicted Label with 0.1 ratio having accuracy 0.9652 : 7\n",
      "Predicted Label with 0.2 ratio having accuracy 0.9714 : 7\n",
      "Predicted Label with 0.3 ratio having accuracy 0.9785 : 7\n",
      "Predicted Label with 0.4 ratio having accuracy 0.9812 : 7\n",
      "Predicted Label with 0.5 ratio having accuracy 0.9812 : 7\n",
      "Predicted Label with 0.6 ratio having accuracy 0.982 : 7\n",
      "Predicted Label with 0.7 ratio having accuracy 0.9841 : 7\n",
      "Predicted Label with 0.8 ratio having accuracy 0.9864 : 7\n",
      "Predicted Label with 0.9 ratio having accuracy 0.9846 : 7\n",
      "========================\n",
      "Test Label: [7]\n",
      "All predictions: \n",
      "[7, 7, 7, 7, 7, 7, 7, 7, 7]\n",
      "Following digit to be recognized:\n"
     ]
    },
    {
     "data": {
      "image/png": "[encoded data removed]",
      "text/plain": [
       "<Figure size 432x288 with 1 Axes>"
      ]
     },
     "metadata": {
      "needs_background": "light"
     },
     "output_type": "display_data"
    },
    {
     "name": "stdout",
     "output_type": "stream",
     "text": [
      "Test Sample No: 3312\n",
      "Predicted Label with 0.1 ratio having accuracy 0.9652 : 5\n",
      "Predicted Label with 0.2 ratio having accuracy 0.9714 : 5\n",
      "Predicted Label with 0.3 ratio having accuracy 0.9785 : 5\n",
      "Predicted Label with 0.4 ratio having accuracy 0.9812 : 5\n",
      "Predicted Label with 0.5 ratio having accuracy 0.9812 : 5\n",
      "Predicted Label with 0.6 ratio having accuracy 0.982 : 5\n",
      "Predicted Label with 0.7 ratio having accuracy 0.9841 : 5\n",
      "Predicted Label with 0.8 ratio having accuracy 0.9864 : 5\n",
      "Predicted Label with 0.9 ratio having accuracy 0.9846 : 5\n",
      "========================\n",
      "Test Label: [5]\n",
      "All predictions: \n",
      "[5, 5, 5, 5, 5, 5, 5, 5, 5]\n",
      "Following digit to be recognized:\n"
     ]
    },
    {
     "data": {
      "image/png": "[encoded data removed]",
      "text/plain": [
       "<Figure size 432x288 with 1 Axes>"
      ]
     },
     "metadata": {
      "needs_background": "light"
     },
     "output_type": "display_data"
    },
    {
     "name": "stdout",
     "output_type": "stream",
     "text": [
      "Test Sample No: 9653\n",
      "Predicted Label with 0.1 ratio having accuracy 0.9652 : 1\n",
      "Predicted Label with 0.2 ratio having accuracy 0.9714 : 1\n",
      "Predicted Label with 0.3 ratio having accuracy 0.9785 : 1\n",
      "Predicted Label with 0.4 ratio having accuracy 0.9812 : 1\n",
      "Predicted Label with 0.5 ratio having accuracy 0.9812 : 1\n",
      "Predicted Label with 0.6 ratio having accuracy 0.982 : 1\n",
      "Predicted Label with 0.7 ratio having accuracy 0.9841 : 1\n",
      "Predicted Label with 0.8 ratio having accuracy 0.9864 : 1\n",
      "Predicted Label with 0.9 ratio having accuracy 0.9846 : 1\n",
      "========================\n",
      "Test Label: [1]\n",
      "All predictions: \n",
      "[1, 1, 1, 1, 1, 1, 1, 1, 1]\n"
     ]
    }
   ],
   "source": [
    "#testing over few images\n",
    "import random\n",
    "\n",
    "\n",
    "for i in range(0,10):\n",
    "    index=random.randint(0,10000)\n",
    "    print(\"Following digit to be recognized:\")\n",
    "    show_img(x_test_data_norm,index)\n",
    "    plt.show()\n",
    "    print(\"Test Sample No: \"+str(index))\n",
    "    pred_label = []\n",
    "    coreset_acc = []\n",
    "    \n",
    "    for j in range(len(perc)):\n",
    "        \n",
    "        #model evaluation\n",
    "        #cset_accuracy=coreset_model[j].evaluate(x_data_2D_test,x_test_label)[1]\n",
    "        #print(\"\\nAccuracy=\"+str(cset_accuracy))\n",
    "        #coreset_acc.append(cset_accuracy)\n",
    "        \n",
    "        pred = coreset_model[j].predict(x_data_2D_test[index].reshape(1, 28, 28, 1))\n",
    "        pred_label.append(pred.argmax())\n",
    "        print(\"Predicted Label with \"+str(perc[j])+\" ratio having accuracy \"+str(coreset_accuracy[j])+\" : \"+str(pred.argmax()))\n",
    "    print(\"========================\")\n",
    "    print(\"Test Label: \"+str(x_test_label[index]))\n",
    "    print(\"All predictions: \")    \n",
    "    print(pred_label)    \n",
    "    \n",
    "        \n",
    "\n"
   ]
  },
  {
   "cell_type": "code",
   "execution_count": null,
   "metadata": {},
   "outputs": [],
   "source": []
  }
 ],
 "metadata": {
  "kernelspec": {
   "display_name": "Python 3",
   "language": "python",
   "name": "python3"
  },
  "language_info": {
   "codemirror_mode": {
    "name": "ipython",
    "version": 3
   },
   "file_extension": ".py",
   "mimetype": "text/x-python",
   "name": "python",
   "nbconvert_exporter": "python",
   "pygments_lexer": "ipython3",
   "version": "3.7.4"
  }
 },
 "nbformat": 4,
 "nbformat_minor": 1
}
